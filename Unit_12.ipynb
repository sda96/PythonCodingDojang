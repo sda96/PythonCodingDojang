{
 "cells": [
  {
   "cell_type": "markdown",
   "id": "graduate-louis",
   "metadata": {},
   "source": [
    "### Unit. 12 딕셔너리 사용하기"
   ]
  },
  {
   "cell_type": "markdown",
   "id": "differential-wayne",
   "metadata": {},
   "source": [
    "#### 12.1 딕셔너리 만들기"
   ]
  },
  {
   "cell_type": "markdown",
   "id": "norwegian-interface",
   "metadata": {},
   "source": [
    "파이썬에서는 연관된 값을 묶어서 저장하는 "
   ]
  },
  {
   "cell_type": "code",
   "execution_count": 1,
   "id": "determined-express",
   "metadata": {},
   "outputs": [
    {
     "data": {
      "text/plain": [
       "{'health': 490, 'mana': 334, 'melee': 550}"
      ]
     },
     "execution_count": 1,
     "metadata": {},
     "output_type": "execute_result"
    }
   ],
   "source": [
    "lux = {\"health\": 490, \"mana\": 334, \"melee\": 550}\n",
    "lux"
   ]
  },
  {
   "cell_type": "markdown",
   "id": "solar-manual",
   "metadata": {},
   "source": [
    "중복된 키가 발생한 경우 가장 뒤에 있는 값만 사용  \n",
    "키값은 중복되면 따로 저장되지 않음  \n",
    "키에는 리스트와 딕셔너리를 사용할 수 없음"
   ]
  },
  {
   "cell_type": "code",
   "execution_count": 2,
   "id": "integral-reply",
   "metadata": {},
   "outputs": [
    {
     "data": {
      "text/plain": [
       "{'health': 550, 'mana': 334, 'melee': 550}"
      ]
     },
     "execution_count": 2,
     "metadata": {},
     "output_type": "execute_result"
    }
   ],
   "source": [
    "lux = {\"health\": 490, \"mana\": 334, \"melee\": 550, \"health\": 550}\n",
    "lux "
   ]
  },
  {
   "cell_type": "code",
   "execution_count": 4,
   "id": "fewer-digit",
   "metadata": {},
   "outputs": [
    {
     "data": {
      "text/plain": [
       "{'health': 490, 'mana': 334, 'melee': 550}"
      ]
     },
     "execution_count": 4,
     "metadata": {},
     "output_type": "execute_result"
    }
   ],
   "source": [
    "dict(health=490, mana=334, melee=550)"
   ]
  },
  {
   "cell_type": "markdown",
   "id": "altered-example",
   "metadata": {},
   "source": [
    "#### 12.2 딕셔너리의 키에 접근하고 값 할당하기"
   ]
  },
  {
   "cell_type": "code",
   "execution_count": 5,
   "id": "secure-provincial",
   "metadata": {},
   "outputs": [
    {
     "data": {
      "text/plain": [
       "{'health': 225, 'mana': 334, 'melee': 550}"
      ]
     },
     "execution_count": 5,
     "metadata": {},
     "output_type": "execute_result"
    }
   ],
   "source": [
    "lux[\"health\"] = 225\n",
    "lux"
   ]
  },
  {
   "cell_type": "code",
   "execution_count": 7,
   "id": "southern-neutral",
   "metadata": {},
   "outputs": [
    {
     "data": {
      "text/plain": [
       "True"
      ]
     },
     "execution_count": 7,
     "metadata": {},
     "output_type": "execute_result"
    }
   ],
   "source": [
    "\"health\" in lux"
   ]
  },
  {
   "cell_type": "code",
   "execution_count": 8,
   "id": "extra-glass",
   "metadata": {},
   "outputs": [
    {
     "data": {
      "text/plain": [
       "3"
      ]
     },
     "execution_count": 8,
     "metadata": {},
     "output_type": "execute_result"
    }
   ],
   "source": [
    "len(lux)"
   ]
  },
  {
   "cell_type": "code",
   "execution_count": 4,
   "id": "million-opposition",
   "metadata": {
    "scrolled": true
   },
   "outputs": [
    {
     "data": {
      "text/plain": [
       "{'health': 550, 'mana': 334, 'melee': 550, 'aal': 322}"
      ]
     },
     "execution_count": 4,
     "metadata": {},
     "output_type": "execute_result"
    }
   ],
   "source": [
    "lux[\"aal\"] = 322\n",
    "lux"
   ]
  },
  {
   "cell_type": "code",
   "execution_count": 5,
   "id": "committed-hours",
   "metadata": {},
   "outputs": [
    {
     "data": {
      "text/plain": [
       "{'health': 550, 'mana': 334, 'melee': 550}"
      ]
     },
     "execution_count": 5,
     "metadata": {},
     "output_type": "execute_result"
    }
   ],
   "source": [
    "del lux[\"aal\"]\n",
    "lux"
   ]
  },
  {
   "cell_type": "markdown",
   "id": "running-visibility",
   "metadata": {},
   "source": [
    "#### 12.3 심사 문제"
   ]
  },
  {
   "cell_type": "code",
   "execution_count": 22,
   "id": "unlike-namibia",
   "metadata": {},
   "outputs": [
    {
     "name": "stdout",
     "output_type": "stream",
     "text": [
      "health mana melee attack_speed magic_resistance\n",
      "573.6 308.8 600 0.625 35.7\n",
      "{'health': 573.6, 'mana': 308.8, 'melee': 600.0, 'attack_speed': 0.625, 'magic_resistance': 35.7}\n"
     ]
    }
   ],
   "source": [
    "a = input().split()\n",
    "b = list(map(float, input().split()))\n",
    "lux = dict(zip(a,b))\n",
    "print(lux)"
   ]
  },
  {
   "cell_type": "code",
   "execution_count": 21,
   "id": "controlling-weekend",
   "metadata": {},
   "outputs": [
    {
     "data": {
      "text/plain": [
       "['health', 'health_regen', 'mana', 'mana_regen']"
      ]
     },
     "execution_count": 21,
     "metadata": {},
     "output_type": "execute_result"
    }
   ],
   "source": [
    "a"
   ]
  },
  {
   "cell_type": "code",
   "execution_count": 20,
   "id": "champion-enterprise",
   "metadata": {},
   "outputs": [
    {
     "data": {
      "text/plain": [
       "{'a': [575.6, 1.7, 338.8, 1.63]}"
      ]
     },
     "execution_count": 20,
     "metadata": {},
     "output_type": "execute_result"
    }
   ],
   "source": [
    "dict(a=b)"
   ]
  }
 ],
 "metadata": {
  "kernelspec": {
   "display_name": "Python 3",
   "language": "python",
   "name": "python3"
  },
  "language_info": {
   "codemirror_mode": {
    "name": "ipython",
    "version": 3
   },
   "file_extension": ".py",
   "mimetype": "text/x-python",
   "name": "python",
   "nbconvert_exporter": "python",
   "pygments_lexer": "ipython3",
   "version": "3.7.9"
  }
 },
 "nbformat": 4,
 "nbformat_minor": 5
}
