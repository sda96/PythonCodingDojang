{
 "cells": [
  {
   "cell_type": "markdown",
   "id": "mobile-minimum",
   "metadata": {},
   "source": [
    "### Unit.10 리스트와 튜플 사용하기"
   ]
  },
  {
   "cell_type": "markdown",
   "id": "hydraulic-orchestra",
   "metadata": {},
   "source": [
    "#### 10.1 리스트 만들기"
   ]
  },
  {
   "cell_type": "markdown",
   "id": "subject-appliance",
   "metadata": {},
   "source": [
    "여러개의 값을 가진 변수들을 한번에 생성하기 위해서 시퀀스 자료형을 만듭니다."
   ]
  },
  {
   "cell_type": "code",
   "execution_count": 1,
   "id": "accepting-guard",
   "metadata": {},
   "outputs": [
    {
     "data": {
      "text/plain": [
       "[1, 2, 3, 4, 5]"
      ]
     },
     "execution_count": 1,
     "metadata": {},
     "output_type": "execute_result"
    }
   ],
   "source": [
    "a = [1,2,3,4,5]\n",
    "a"
   ]
  },
  {
   "cell_type": "markdown",
   "id": "frank-difference",
   "metadata": {},
   "source": [
    "리스트 객체에 들어가는 값들은 요소(element)라고 부르며 []인 경우 빈 리스트가 작성되어 집니다"
   ]
  },
  {
   "cell_type": "code",
   "execution_count": 2,
   "id": "exact-optics",
   "metadata": {},
   "outputs": [
    {
     "name": "stdout",
     "output_type": "stream",
     "text": [
      "['James', 1, 2, 3, [1, 2, 3]]\n",
      "[]\n",
      "[]\n"
     ]
    }
   ],
   "source": [
    "a = [\"James\", 1, 2, 3, [1,2,3]]\n",
    "b = []\n",
    "c = list()\n",
    "print(a)\n",
    "print(b)\n",
    "print(c)"
   ]
  },
  {
   "cell_type": "markdown",
   "id": "minor-jefferson",
   "metadata": {},
   "source": [
    "리스트를 생성할 때 자주 사용되는 함수로는 ```range```함수가 존재하며 ```range```함수가 받은 매개변수는 시작, 끝, 스텝으로 3가지 인자를 받아서 range 객체를 반환합니다."
   ]
  },
  {
   "cell_type": "code",
   "execution_count": 4,
   "id": "important-seating",
   "metadata": {},
   "outputs": [
    {
     "data": {
      "text/plain": [
       "range(0, 10)"
      ]
     },
     "execution_count": 4,
     "metadata": {},
     "output_type": "execute_result"
    }
   ],
   "source": [
    "range(10)"
   ]
  },
  {
   "cell_type": "code",
   "execution_count": 6,
   "id": "canadian-plate",
   "metadata": {},
   "outputs": [
    {
     "data": {
      "text/plain": [
       "[0, 1, 2, 3, 4, 5, 6, 7, 8, 9]"
      ]
     },
     "execution_count": 6,
     "metadata": {},
     "output_type": "execute_result"
    }
   ],
   "source": [
    "list(range(0,10))"
   ]
  },
  {
   "cell_type": "code",
   "execution_count": 8,
   "id": "scientific-belgium",
   "metadata": {},
   "outputs": [
    {
     "data": {
      "text/plain": [
       "[0, 2, 4, 6, 8]"
      ]
     },
     "execution_count": 8,
     "metadata": {},
     "output_type": "execute_result"
    }
   ],
   "source": [
    "list(range(0,10,2))"
   ]
  },
  {
   "cell_type": "code",
   "execution_count": 9,
   "id": "vocal-emission",
   "metadata": {},
   "outputs": [
    {
     "data": {
      "text/plain": [
       "[10, 9, 8, 7, 6, 5, 4, 3, 2]"
      ]
     },
     "execution_count": 9,
     "metadata": {},
     "output_type": "execute_result"
    }
   ],
   "source": [
    "list(range(10, 1, -1))"
   ]
  },
  {
   "cell_type": "code",
   "execution_count": 10,
   "id": "surprising-optimum",
   "metadata": {},
   "outputs": [
    {
     "data": {
      "text/plain": [
       "[10, 7, 4]"
      ]
     },
     "execution_count": 10,
     "metadata": {},
     "output_type": "execute_result"
    }
   ],
   "source": [
    "list(range(10, 1, -3))"
   ]
  },
  {
   "cell_type": "code",
   "execution_count": 13,
   "id": "molecular-impact",
   "metadata": {},
   "outputs": [
    {
     "data": {
      "text/plain": [
       "['H', 'e', 'l', 'l', 'o']"
      ]
     },
     "execution_count": 13,
     "metadata": {},
     "output_type": "execute_result"
    }
   ],
   "source": [
    "list(\"Hello\")"
   ]
  },
  {
   "cell_type": "code",
   "execution_count": 14,
   "id": "reverse-professor",
   "metadata": {},
   "outputs": [
    {
     "name": "stdout",
     "output_type": "stream",
     "text": [
      "1 2 3\n"
     ]
    }
   ],
   "source": [
    "x = [1, 2, 3]\n",
    "a, b, c = x # list unpacking\n",
    "print(a, b, c)"
   ]
  },
  {
   "cell_type": "markdown",
   "id": "collaborative-profit",
   "metadata": {},
   "source": [
    "- [sequence(order)](https://python.flowdas.com/library/collections.html)\n",
    "> A sequence is a group of items with a deterministic ordering.(순서를 가지고 있는)\n",
    "\n",
    "- [mutable , immutable ](https://www.geeksforgeeks.org/mutable-vs-immutable-objects-in-python/)\n",
    "> Whenever an object is instantiated, it is assigned a unique object id. The type of the object is defined at the runtime and it can’t be changed afterwards. However, it’s state can be changed if it is a mutable object.\n",
    "To summarise the difference, mutable objects can change their state or contents and immutable objects can’t change their state or content.  \n",
    "`Immutable Objects` : These are of in-built types like int, float, bool, string, unicode, tuple. In simple words, an immutable object can’t be changed after it is created  \n",
    "`Mutable Objects` : These are of type list, dict, set . Custom classes are generally mutables  \n",
    "❖`state` : The contents of the memory locations, at any given point in the program’s execution, is called the program’s state.\n",
    "\n",
    "\n",
    "- [hashable](https://docs.python.org/2/glossary.html)\n",
    " > An object is hashable if it has a hash value which never changes during its lifetime (it needs a __hash__() method), and can be compared to other objects\n",
    "\n",
    "- [mapping](https://docs.python.org/2.0/lib/typesmapping.html)\n",
    "> A mapping object maps values of one type (the key type) to arbitrary objects. Mappings are mutable objects. There is currently only one standard mapping type, the dictionary. \n",
    "\n",
    "- [collections](https://python.flowdas.com/library/collections.html)\n",
    "> Python collection, unlike a sequence, does not have a deterministic ordering.\n",
    "\n",
    "- [iterable](https://www.pythonlikeyoumeanit.com/Module2_EssentialsOfPython/Iterables.html)\n",
    "> An iterable is any Python object capable of returning its members one at a time, permitting it to be iterated over in a for-loop.\n",
    "\n",
    "\n"
   ]
  },
  {
   "cell_type": "markdown",
   "id": "manufactured-brooks",
   "metadata": {},
   "source": [
    "|             | order/unorder | iterable | mutable/ immutable | hashable | index |\n",
    "|-------------|---------------|----------|--------------------|----------|-------|\n",
    "|        list | order         | O        | mutable            | X        | O     |\n",
    "| tuple       | order         | O        | immutable          | O        | O     |"
   ]
  },
  {
   "cell_type": "markdown",
   "id": "incredible-mambo",
   "metadata": {},
   "source": [
    "#### 10.2 튜플 사용하기"
   ]
  },
  {
   "cell_type": "markdown",
   "id": "urban-insertion",
   "metadata": {},
   "source": [
    "튜플도 리스트와 같은 시퀀스 자료형으로 리스트와 차별화되는 점은 요소(element)들을 변경, 추가, 삭제를 할 수 없다는 점 입니다. "
   ]
  },
  {
   "cell_type": "code",
   "execution_count": 12,
   "id": "seven-album",
   "metadata": {
    "scrolled": true
   },
   "outputs": [
    {
     "name": "stdout",
     "output_type": "stream",
     "text": [
      "('James', 1, 2, 3, [1, 2, 3])\n",
      "()\n",
      "()\n"
     ]
    }
   ],
   "source": [
    "a = (\"James\", 1, 2, 3, [1,2,3])\n",
    "b = ()\n",
    "c = tuple()\n",
    "print(a)\n",
    "print(b)\n",
    "print(c)"
   ]
  }
 ],
 "metadata": {
  "kernelspec": {
   "display_name": "Python 3",
   "language": "python",
   "name": "python3"
  },
  "language_info": {
   "codemirror_mode": {
    "name": "ipython",
    "version": 3
   },
   "file_extension": ".py",
   "mimetype": "text/x-python",
   "name": "python",
   "nbconvert_exporter": "python",
   "pygments_lexer": "ipython3",
   "version": "3.7.9"
  }
 },
 "nbformat": 4,
 "nbformat_minor": 5
}
