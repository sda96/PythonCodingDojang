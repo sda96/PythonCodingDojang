{
 "cells": [
  {
   "cell_type": "markdown",
   "id": "gothic-proportion",
   "metadata": {},
   "source": [
    "### Unit. 13 if 조건문"
   ]
  },
  {
   "cell_type": "markdown",
   "id": "moved-tucson",
   "metadata": {},
   "source": [
    "조건문은 특정 조건일 떄 코드를 실행하는 문법입니다."
   ]
  },
  {
   "cell_type": "code",
   "execution_count": 3,
   "id": "floppy-inspiration",
   "metadata": {},
   "outputs": [
    {
     "name": "stdout",
     "output_type": "stream",
     "text": [
      "1000보다 크네요\n"
     ]
    }
   ],
   "source": [
    "x = 1004\n",
    "if x < 1000:\n",
    "    print(\"1000보다 작네요\")\n",
    "print(\"1000보다 크네요\")"
   ]
  },
  {
   "cell_type": "code",
   "execution_count": 1,
   "id": "offensive-major",
   "metadata": {},
   "outputs": [
    {
     "name": "stdout",
     "output_type": "stream",
     "text": [
      "1000보다 크네요\n"
     ]
    }
   ],
   "source": [
    "x = 1004\n",
    "if x < 1000:\n",
    "    print(\"1000보다 작네요\")\n",
    "else:\n",
    "    print(\"1000보다 크네요\")"
   ]
  },
  {
   "cell_type": "code",
   "execution_count": 2,
   "id": "breeding-tokyo",
   "metadata": {},
   "outputs": [
    {
     "name": "stdout",
     "output_type": "stream",
     "text": [
      "1000보다 작고 500보다 크네요\n"
     ]
    }
   ],
   "source": [
    "x = 502\n",
    "if x < 1000:\n",
    "    if x > 500:\n",
    "        print(\"1000보다 작고 500보다 크네요\")\n",
    "    else:\n",
    "        print(\"500보다 작네요\")\n",
    "else:\n",
    "    print(\"1000보다 크네요\")"
   ]
  },
  {
   "cell_type": "code",
   "execution_count": 4,
   "id": "contrary-interest",
   "metadata": {},
   "outputs": [
    {
     "data": {
      "text/plain": [
       "0"
      ]
     },
     "execution_count": 4,
     "metadata": {},
     "output_type": "execute_result"
    }
   ],
   "source": [
    "x = 5\n",
    "y = x if x == 10 else 0\n",
    "y"
   ]
  },
  {
   "cell_type": "code",
   "execution_count": 5,
   "id": "quiet-affect",
   "metadata": {},
   "outputs": [
    {
     "name": "stdout",
     "output_type": "stream",
     "text": [
      "참\n",
      "거짓\n",
      "거짓\n"
     ]
    }
   ],
   "source": [
    "if True:\n",
    "    print('참')    # True는 참\n",
    "else:\n",
    "    print('거짓')\n",
    "\n",
    "if False:\n",
    "    print('참')\n",
    "else:\n",
    "    print('거짓')    # False는 거짓\n",
    "\n",
    "if None:\n",
    "    print('참')\n",
    "else:\n",
    "    print('거짓')    # None은 거짓"
   ]
  },
  {
   "cell_type": "code",
   "execution_count": 14,
   "id": "moral-stamp",
   "metadata": {
    "scrolled": true
   },
   "outputs": [
    {
     "name": "stdout",
     "output_type": "stream",
     "text": [
      "거짓\n",
      "참\n",
      "참\n",
      "참\n",
      "참\n",
      "거짓\n"
     ]
    }
   ],
   "source": [
    "if 0:\n",
    "    print('참')\n",
    "else:\n",
    "    print('거짓')    # 0은 거짓\n",
    "\n",
    "if 1:\n",
    "    print('참')    # 1은 참\n",
    "else:\n",
    "    print('거짓')\n",
    "\n",
    "if 0x1F:    # 16진수\n",
    "    print('참')    # 0x1F는 참\n",
    "else:\n",
    "    print('거짓')\n",
    "\n",
    "if 0b1000:    # 2진수\n",
    "    print('참')    # 0b1000은 참\n",
    "else:\n",
    "    print('거짓')\n",
    "\n",
    "if 13.5:    # 실수\n",
    "    print('참')    # 13.5는 참\n",
    "else:\n",
    "    print('거짓')\n",
    "    \n",
    "if []:\n",
    "    print(\"참\")\n",
    "else:\n",
    "    print(\"거짓\")"
   ]
  },
  {
   "cell_type": "code",
   "execution_count": 8,
   "id": "massive-private",
   "metadata": {},
   "outputs": [
    {
     "name": "stdout",
     "output_type": "stream",
     "text": [
      "참\n",
      "거짓\n"
     ]
    }
   ],
   "source": [
    "if 'Hello':    # 문자열\n",
    "    print('참')    # 문자열은 참\n",
    "else:\n",
    "    print('거짓')\n",
    "\n",
    "if '':    # 빈 문자열\n",
    "    print('참')\n",
    "else:\n",
    "    print('거짓')    # 빈 문자열은 거짓"
   ]
  },
  {
   "cell_type": "code",
   "execution_count": 9,
   "id": "becoming-program",
   "metadata": {},
   "outputs": [
    {
     "name": "stdout",
     "output_type": "stream",
     "text": [
      "참\n"
     ]
    }
   ],
   "source": [
    "x = 10\n",
    "y = 20\n",
    "if x == 10 and y == 20:\n",
    "    print(\"참\")\n",
    "else:\n",
    "    print(\"거짓\")"
   ]
  },
  {
   "cell_type": "code",
   "execution_count": 15,
   "id": "operating-gallery",
   "metadata": {},
   "outputs": [
    {
     "name": "stdout",
     "output_type": "stream",
     "text": [
      "True\n"
     ]
    }
   ],
   "source": [
    "x = True\n",
    "y = True\n",
    "if x and y:\n",
    "    print(True)\n",
    "else:\n",
    "    print(False)"
   ]
  },
  {
   "cell_type": "code",
   "execution_count": null,
   "id": "authorized-demographic",
   "metadata": {},
   "outputs": [],
   "source": [
    "a = list(map(int, input().split()))\n",
    "ko, ma, so, si = a\n",
    "b = (ko + ma + so + si) // 4\n",
    "\n",
    "if ko >= 0 and ko <= 100 and ma >= 0 and ma <= 100 and so >= 0 and so <= 100 and si >= 0 and si <= 100:\n",
    "    if b >= 80:\n",
    "        print(\"합격\")\n",
    "    elif b < 80:\n",
    "        print(\"불합격\")\n",
    "else:\n",
    "    print(\"잘못된 점수\")"
   ]
  },
  {
   "cell_type": "code",
   "execution_count": 11,
   "id": "wound-football",
   "metadata": {},
   "outputs": [
    {
     "name": "stdout",
     "output_type": "stream",
     "text": [
      "12\n",
      "8350\n"
     ]
    }
   ],
   "source": [
    "age = int(input())\n",
    "balance = 9000\n",
    "\n",
    "if age >= 7 and age <= 12:\n",
    "    balance = balance - 650\n",
    "elif age >= 13 and age <= 18:\n",
    "    balance = balance - 1050\n",
    "else:\n",
    "    balance = balance - 1250\n",
    "print(balance)"
   ]
  },
  {
   "cell_type": "code",
   "execution_count": 13,
   "id": "protective-score",
   "metadata": {},
   "outputs": [
    {
     "data": {
      "text/plain": [
       "{'__name__': '__main__',\n",
       " '__doc__': 'Automatically created module for IPython interactive environment',\n",
       " '__package__': None,\n",
       " '__loader__': None,\n",
       " '__spec__': None,\n",
       " '__builtin__': <module 'builtins' (built-in)>,\n",
       " '__builtins__': <module 'builtins' (built-in)>,\n",
       " '_ih': ['',\n",
       "  'x = 1004\\nif x < 1000:\\n    print(\"1000보다 작네요\")\\nelse:\\n    print(\"1000보다 크네요\")',\n",
       "  'x = 502\\nif x < 1000:\\n    if x > 500:\\n        print(\"1000보다 작고 500보다 크네요\")\\n    else:\\n        print(\"500보다 작네요\")\\nelse:\\n    print(\"1000보다 크네요\")',\n",
       "  'x = 1004\\nif x < 1000:\\n    print(\"1000보다 작네요\")\\nprint(\"1000보다 크네요\")',\n",
       "  'x = 5\\ny = x if x == 10 else 0\\ny',\n",
       "  \"if True:\\n    print('참')    # True는 참\\nelse:\\n    print('거짓')\\n\\nif False:\\n    print('참')\\nelse:\\n    print('거짓')    # False는 거짓\\n\\nif None:\\n    print('참')\\nelse:\\n    print('거짓')    # None은 거짓\",\n",
       "  \"if 0:\\n    print('참')\\nelse:\\n    print('거짓')    # 0은 거짓\\n\\nif 1:\\n    print('참')    # 1은 참\\nelse:\\n    print('거짓')\\n\\nif 0x1F:    # 16진수\\n    print('참')    # 0x1F는 참\\nelse:\\n    print('거짓')\\n\\nif 0b1000:    # 2진수\\n    print('참')    # 0b1000은 참\\nelse:\\n    print('거짓')\\n\\nif 13.5:    # 실수\\n    print('참')    # 13.5는 참\\nelse:\\n    print('거짓')\",\n",
       "  \"if_else_string.py\\nif 'Hello':    # 문자열\\n    print('참')    # 문자열은 참\\nelse:\\n    print('거짓')\\n\\nif '':    # 빈 문자열\\n    print('참')\\nelse:\\n    print('거짓')    # 빈 문자열은 거짓\",\n",
       "  \"if 'Hello':    # 문자열\\n    print('참')    # 문자열은 참\\nelse:\\n    print('거짓')\\n\\nif '':    # 빈 문자열\\n    print('참')\\nelse:\\n    print('거짓')    # 빈 문자열은 거짓\",\n",
       "  'x = 10\\ny = 20\\nif x == 10 and y == 20:\\n    print(\"참\")\\nelse:\\n    print(\"거짓\")',\n",
       "  'age = int(input())\\nbalance = 9000\\n\\nif age >= 7 and age <= 12:\\n    print(balance - 650)\\nelif age >= 13 and age <= 18:\\n    print(balance - 1050)\\nelse:\\n    print(balance - 1250)',\n",
       "  'age = int(input())\\nbalance = 9000\\n\\nif age >= 7 and age <= 12:\\n    print(balance - 650)\\nelif age >= 13 and age <= 18:\\n    print(balance - 1050)\\nelse:\\n    print(balance - 1250)',\n",
       "  'locals',\n",
       "  'locals()'],\n",
       " '_oh': {4: 0, 12: <function locals()>},\n",
       " '_dh': ['/aiffel/aiffel/Dojang'],\n",
       " 'In': ['',\n",
       "  'x = 1004\\nif x < 1000:\\n    print(\"1000보다 작네요\")\\nelse:\\n    print(\"1000보다 크네요\")',\n",
       "  'x = 502\\nif x < 1000:\\n    if x > 500:\\n        print(\"1000보다 작고 500보다 크네요\")\\n    else:\\n        print(\"500보다 작네요\")\\nelse:\\n    print(\"1000보다 크네요\")',\n",
       "  'x = 1004\\nif x < 1000:\\n    print(\"1000보다 작네요\")\\nprint(\"1000보다 크네요\")',\n",
       "  'x = 5\\ny = x if x == 10 else 0\\ny',\n",
       "  \"if True:\\n    print('참')    # True는 참\\nelse:\\n    print('거짓')\\n\\nif False:\\n    print('참')\\nelse:\\n    print('거짓')    # False는 거짓\\n\\nif None:\\n    print('참')\\nelse:\\n    print('거짓')    # None은 거짓\",\n",
       "  \"if 0:\\n    print('참')\\nelse:\\n    print('거짓')    # 0은 거짓\\n\\nif 1:\\n    print('참')    # 1은 참\\nelse:\\n    print('거짓')\\n\\nif 0x1F:    # 16진수\\n    print('참')    # 0x1F는 참\\nelse:\\n    print('거짓')\\n\\nif 0b1000:    # 2진수\\n    print('참')    # 0b1000은 참\\nelse:\\n    print('거짓')\\n\\nif 13.5:    # 실수\\n    print('참')    # 13.5는 참\\nelse:\\n    print('거짓')\",\n",
       "  \"if_else_string.py\\nif 'Hello':    # 문자열\\n    print('참')    # 문자열은 참\\nelse:\\n    print('거짓')\\n\\nif '':    # 빈 문자열\\n    print('참')\\nelse:\\n    print('거짓')    # 빈 문자열은 거짓\",\n",
       "  \"if 'Hello':    # 문자열\\n    print('참')    # 문자열은 참\\nelse:\\n    print('거짓')\\n\\nif '':    # 빈 문자열\\n    print('참')\\nelse:\\n    print('거짓')    # 빈 문자열은 거짓\",\n",
       "  'x = 10\\ny = 20\\nif x == 10 and y == 20:\\n    print(\"참\")\\nelse:\\n    print(\"거짓\")',\n",
       "  'age = int(input())\\nbalance = 9000\\n\\nif age >= 7 and age <= 12:\\n    print(balance - 650)\\nelif age >= 13 and age <= 18:\\n    print(balance - 1050)\\nelse:\\n    print(balance - 1250)',\n",
       "  'age = int(input())\\nbalance = 9000\\n\\nif age >= 7 and age <= 12:\\n    print(balance - 650)\\nelif age >= 13 and age <= 18:\\n    print(balance - 1050)\\nelse:\\n    print(balance - 1250)',\n",
       "  'locals',\n",
       "  'locals()'],\n",
       " 'Out': {4: 0, 12: <function locals()>},\n",
       " 'get_ipython': <bound method InteractiveShell.get_ipython of <ipykernel.zmqshell.ZMQInteractiveShell object at 0x7fb86d17f050>>,\n",
       " 'exit': <IPython.core.autocall.ZMQExitAutocall at 0x7fb86d15c290>,\n",
       " 'quit': <IPython.core.autocall.ZMQExitAutocall at 0x7fb86d15c290>,\n",
       " '_': <function locals()>,\n",
       " '__': 0,\n",
       " '___': '',\n",
       " '_i': 'locals',\n",
       " '_ii': 'age = int(input())\\nbalance = 9000\\n\\nif age >= 7 and age <= 12:\\n    print(balance - 650)\\nelif age >= 13 and age <= 18:\\n    print(balance - 1050)\\nelse:\\n    print(balance - 1250)',\n",
       " '_iii': 'age = int(input())\\nbalance = 9000\\n\\nif age >= 7 and age <= 12:\\n    print(balance - 650)\\nelif age >= 13 and age <= 18:\\n    print(balance - 1050)\\nelse:\\n    print(balance - 1250)',\n",
       " '_i1': 'x = 1004\\nif x < 1000:\\n    print(\"1000보다 작네요\")\\nelse:\\n    print(\"1000보다 크네요\")',\n",
       " 'x': 10,\n",
       " '_i2': 'x = 502\\nif x < 1000:\\n    if x > 500:\\n        print(\"1000보다 작고 500보다 크네요\")\\n    else:\\n        print(\"500보다 작네요\")\\nelse:\\n    print(\"1000보다 크네요\")',\n",
       " '_i3': 'x = 1004\\nif x < 1000:\\n    print(\"1000보다 작네요\")\\nprint(\"1000보다 크네요\")',\n",
       " '_i4': 'x = 5\\ny = x if x == 10 else 0\\ny',\n",
       " 'y': 20,\n",
       " '_4': 0,\n",
       " '_i5': \"if True:\\n    print('참')    # True는 참\\nelse:\\n    print('거짓')\\n\\nif False:\\n    print('참')\\nelse:\\n    print('거짓')    # False는 거짓\\n\\nif None:\\n    print('참')\\nelse:\\n    print('거짓')    # None은 거짓\",\n",
       " '_i6': \"if 0:\\n    print('참')\\nelse:\\n    print('거짓')    # 0은 거짓\\n\\nif 1:\\n    print('참')    # 1은 참\\nelse:\\n    print('거짓')\\n\\nif 0x1F:    # 16진수\\n    print('참')    # 0x1F는 참\\nelse:\\n    print('거짓')\\n\\nif 0b1000:    # 2진수\\n    print('참')    # 0b1000은 참\\nelse:\\n    print('거짓')\\n\\nif 13.5:    # 실수\\n    print('참')    # 13.5는 참\\nelse:\\n    print('거짓')\",\n",
       " '_i7': \"if_else_string.py\\nif 'Hello':    # 문자열\\n    print('참')    # 문자열은 참\\nelse:\\n    print('거짓')\\n\\nif '':    # 빈 문자열\\n    print('참')\\nelse:\\n    print('거짓')    # 빈 문자열은 거짓\",\n",
       " '_i8': \"if 'Hello':    # 문자열\\n    print('참')    # 문자열은 참\\nelse:\\n    print('거짓')\\n\\nif '':    # 빈 문자열\\n    print('참')\\nelse:\\n    print('거짓')    # 빈 문자열은 거짓\",\n",
       " '_i9': 'x = 10\\ny = 20\\nif x == 10 and y == 20:\\n    print(\"참\")\\nelse:\\n    print(\"거짓\")',\n",
       " '_i10': 'age = int(input())\\nbalance = 9000\\n\\nif age >= 7 and age <= 12:\\n    print(balance - 650)\\nelif age >= 13 and age <= 18:\\n    print(balance - 1050)\\nelse:\\n    print(balance - 1250)',\n",
       " 'age': 12,\n",
       " 'balance': 9000,\n",
       " '_i11': 'age = int(input())\\nbalance = 9000\\n\\nif age >= 7 and age <= 12:\\n    print(balance - 650)\\nelif age >= 13 and age <= 18:\\n    print(balance - 1050)\\nelse:\\n    print(balance - 1250)',\n",
       " '_i12': 'locals',\n",
       " '_12': <function locals()>,\n",
       " '_i13': 'locals()'}"
      ]
     },
     "execution_count": 13,
     "metadata": {},
     "output_type": "execute_result"
    }
   ],
   "source": [
    "locals()"
   ]
  }
 ],
 "metadata": {
  "kernelspec": {
   "display_name": "Python 3",
   "language": "python",
   "name": "python3"
  },
  "language_info": {
   "codemirror_mode": {
    "name": "ipython",
    "version": 3
   },
   "file_extension": ".py",
   "mimetype": "text/x-python",
   "name": "python",
   "nbconvert_exporter": "python",
   "pygments_lexer": "ipython3",
   "version": "3.7.9"
  }
 },
 "nbformat": 4,
 "nbformat_minor": 5
}
