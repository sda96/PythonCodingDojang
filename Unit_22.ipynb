{
 "cells": [
  {
   "cell_type": "markdown",
   "id": "unique-translation",
   "metadata": {},
   "source": [
    "### Unit. 21 리스트 조작하기"
   ]
  },
  {
   "cell_type": "markdown",
   "id": "varying-montgomery",
   "metadata": {},
   "source": [
    "#### 리스트에 요소 추가하기"
   ]
  },
  {
   "cell_type": "markdown",
   "id": "educated-exhaust",
   "metadata": {},
   "source": [
    "append\n",
    "- 요소 하나를 추가\n",
    "\n",
    "extend\n",
    "- 리스트를 연결하여 확장\n",
    "\n",
    "insert\n",
    "- 특정 인덱스에 요소 추가"
   ]
  },
  {
   "cell_type": "code",
   "execution_count": 14,
   "id": "amino-namibia",
   "metadata": {},
   "outputs": [
    {
     "name": "stdout",
     "output_type": "stream",
     "text": [
      "[10, 20, 30, [40, 50]]\n",
      "[10, 20, 30, [40, 50], 40, 50]\n",
      "[10, 20, 70, 30, [40, 50], 40, 50]\n"
     ]
    }
   ],
   "source": [
    "a = [10, 20, 30]\n",
    "a.append([40, 50])\n",
    "print(a)\n",
    "a.extend([40, 50])\n",
    "print(a)\n",
    "a.insert(2,70)\n",
    "print(a)"
   ]
  },
  {
   "cell_type": "markdown",
   "id": "mexican-construction",
   "metadata": {},
   "source": [
    "#### 리스트에 요소 제거하기"
   ]
  },
  {
   "cell_type": "markdown",
   "id": "neither-trigger",
   "metadata": {},
   "source": [
    "pop()\n",
    "- 마지막 요소 또는 특정 인덱스의 요소를 삭제\n",
    "\n",
    "remove()\n",
    "- 특정 요소를 찾아서 삭제"
   ]
  },
  {
   "cell_type": "code",
   "execution_count": 15,
   "id": "greatest-modern",
   "metadata": {},
   "outputs": [
    {
     "name": "stdout",
     "output_type": "stream",
     "text": [
      "[10, 20, 70, 30, [40, 50], 40]\n",
      "[10, 20, 70, 30, 40] [40, 50]\n",
      "[10, 70, 30, 40]\n"
     ]
    }
   ],
   "source": [
    "a.pop()\n",
    "print(a)\n",
    "b = a.pop(4)\n",
    "print(a, b)\n",
    "a.remove(20) # 특정 원소 제거\n",
    "print(a)"
   ]
  },
  {
   "cell_type": "markdown",
   "id": "significant-volunteer",
   "metadata": {},
   "source": [
    "#### 리스트 메서드"
   ]
  },
  {
   "cell_type": "code",
   "execution_count": 17,
   "id": "sharing-balloon",
   "metadata": {},
   "outputs": [
    {
     "data": {
      "text/plain": [
       "0"
      ]
     },
     "execution_count": 17,
     "metadata": {},
     "output_type": "execute_result"
    }
   ],
   "source": [
    "a.index(10) # 요소의 인덱스 출력"
   ]
  },
  {
   "cell_type": "code",
   "execution_count": 20,
   "id": "cloudy-combine",
   "metadata": {},
   "outputs": [
    {
     "data": {
      "text/plain": [
       "1"
      ]
     },
     "execution_count": 20,
     "metadata": {},
     "output_type": "execute_result"
    }
   ],
   "source": [
    "a.count(10) # 요소의 개수 세기"
   ]
  },
  {
   "cell_type": "code",
   "execution_count": 29,
   "id": "protected-jewel",
   "metadata": {},
   "outputs": [
    {
     "name": "stdout",
     "output_type": "stream",
     "text": [
      "[40, 30, 70, 10]\n"
     ]
    }
   ],
   "source": [
    "a.reverse()\n",
    "print(a)"
   ]
  },
  {
   "cell_type": "code",
   "execution_count": 31,
   "id": "reflected-custody",
   "metadata": {},
   "outputs": [
    {
     "data": {
      "text/plain": [
       "[10, 30, 40, 70]"
      ]
     },
     "execution_count": 31,
     "metadata": {},
     "output_type": "execute_result"
    }
   ],
   "source": [
    "sorted(a)"
   ]
  },
  {
   "cell_type": "code",
   "execution_count": 32,
   "id": "accessible-category",
   "metadata": {},
   "outputs": [
    {
     "name": "stdout",
     "output_type": "stream",
     "text": [
      "[10, 30, 40, 70]\n"
     ]
    }
   ],
   "source": [
    "a.sort()\n",
    "print(a)"
   ]
  },
  {
   "cell_type": "code",
   "execution_count": 33,
   "id": "pharmaceutical-college",
   "metadata": {
    "scrolled": true
   },
   "outputs": [
    {
     "name": "stdout",
     "output_type": "stream",
     "text": [
      "[]\n"
     ]
    }
   ],
   "source": [
    "a.clear()\n",
    "print(a)"
   ]
  },
  {
   "cell_type": "markdown",
   "id": "ahead-zealand",
   "metadata": {},
   "source": [
    "#### copy()"
   ]
  },
  {
   "cell_type": "code",
   "execution_count": 34,
   "id": "several-evaluation",
   "metadata": {},
   "outputs": [
    {
     "name": "stdout",
     "output_type": "stream",
     "text": [
      "140410674779312 140410675376448\n"
     ]
    }
   ],
   "source": [
    "a = [1,2,3,4]\n",
    "b = a.copy()\n",
    "print(id(a),id(b))"
   ]
  },
  {
   "cell_type": "code",
   "execution_count": 35,
   "id": "governing-transcript",
   "metadata": {},
   "outputs": [
    {
     "data": {
      "text/plain": [
       "[[1, 2, 3], [4, 5], 6, 7]"
      ]
     },
     "execution_count": 35,
     "metadata": {},
     "output_type": "execute_result"
    }
   ],
   "source": [
    "a = [[1,2,3],[4,5],6,7]\n",
    "b = a.copy()\n",
    "b"
   ]
  },
  {
   "cell_type": "code",
   "execution_count": 36,
   "id": "happy-decade",
   "metadata": {},
   "outputs": [
    {
     "data": {
      "text/plain": [
       "[[10, 2, 3], [4, 5], 6, 7]"
      ]
     },
     "execution_count": 36,
     "metadata": {},
     "output_type": "execute_result"
    }
   ],
   "source": [
    "b[0][0]= 10\n",
    "a"
   ]
  },
  {
   "cell_type": "code",
   "execution_count": 37,
   "id": "twenty-studio",
   "metadata": {},
   "outputs": [
    {
     "data": {
      "text/plain": [
       "(93836641215136, 93836641215136)"
      ]
     },
     "execution_count": 37,
     "metadata": {},
     "output_type": "execute_result"
    }
   ],
   "source": [
    "id(a[0][1]), id(b[0][1]) # copy가 겉으로만 얕게된 형태"
   ]
  },
  {
   "cell_type": "code",
   "execution_count": 41,
   "id": "backed-playback",
   "metadata": {},
   "outputs": [
    {
     "data": {
      "text/plain": [
       "(93836641215136, 93836641215136)"
      ]
     },
     "execution_count": 41,
     "metadata": {},
     "output_type": "execute_result"
    }
   ],
   "source": [
    "import copy\n",
    "a = [[1,2,3],[4,5],6,7]\n",
    "b = copy.deepcopy(a)\n",
    "\n",
    "id(a[0][1]), id(b[0][1])"
   ]
  },
  {
   "cell_type": "code",
   "execution_count": 49,
   "id": "stable-harvard",
   "metadata": {},
   "outputs": [
    {
     "data": {
      "text/plain": [
       "([[1, 2, 3], [4, 5]], [[1, 10, 3], [4, 5]])"
      ]
     },
     "execution_count": 49,
     "metadata": {},
     "output_type": "execute_result"
    }
   ],
   "source": [
    "b[0][1] = 10\n",
    "a, b"
   ]
  },
  {
   "cell_type": "code",
   "execution_count": 50,
   "id": "diagnostic-female",
   "metadata": {},
   "outputs": [
    {
     "data": {
      "text/plain": [
       "(93836641215136, 93836641215392)"
      ]
     },
     "execution_count": 50,
     "metadata": {},
     "output_type": "execute_result"
    }
   ],
   "source": [
    "id(a[0][1]), id(b[0][1])"
   ]
  },
  {
   "cell_type": "markdown",
   "id": "authorized-layer",
   "metadata": {},
   "source": [
    "#### enumerate()"
   ]
  },
  {
   "cell_type": "code",
   "execution_count": 51,
   "id": "renewable-finance",
   "metadata": {},
   "outputs": [
    {
     "name": "stdout",
     "output_type": "stream",
     "text": [
      "0 a\n",
      "1 b\n",
      "2 c\n",
      "3 d\n",
      "4 e\n"
     ]
    }
   ],
   "source": [
    "a = [\"a\",\"b\",\"c\",\"d\",\"e\"]\n",
    "for index, value in enumerate(a):\n",
    "    print(index, value)"
   ]
  },
  {
   "cell_type": "markdown",
   "id": "through-resident",
   "metadata": {},
   "source": [
    "#### min(), max(), sum()"
   ]
  },
  {
   "cell_type": "code",
   "execution_count": 52,
   "id": "geographic-player",
   "metadata": {},
   "outputs": [
    {
     "data": {
      "text/plain": [
       "(19, 62, 193)"
      ]
     },
     "execution_count": 52,
     "metadata": {},
     "output_type": "execute_result"
    }
   ],
   "source": [
    "s = [38, 21, 53, 62, 19]\n",
    "min(s), max(s), sum(s)"
   ]
  },
  {
   "cell_type": "markdown",
   "id": "abroad-theta",
   "metadata": {},
   "source": [
    "#### [list comprehension](https://doorbw.tistory.com/174)"
   ]
  },
  {
   "cell_type": "markdown",
   "id": "hazardous-trash",
   "metadata": {},
   "source": [
    "- 일반 반복문 보다 list comprehension 속도가 더 빠르다\n",
    "\n",
    "참고사이트\n",
    "- https://jeongukjae.github.io/posts/inspecting-list-comprehension/"
   ]
  },
  {
   "cell_type": "code",
   "execution_count": 54,
   "id": "celtic-chapel",
   "metadata": {},
   "outputs": [
    {
     "data": {
      "text/plain": [
       "[0, 5, 10, 15, 20, 25, 30, 35, 40, 45, 50, 55, 60, 65, 70, 75, 80, 85, 90, 95]"
      ]
     },
     "execution_count": 54,
     "metadata": {},
     "output_type": "execute_result"
    }
   ],
   "source": [
    "[i for i in range(100) if i % 5 == 0]"
   ]
  },
  {
   "cell_type": "code",
   "execution_count": 57,
   "id": "continued-opportunity",
   "metadata": {},
   "outputs": [
    {
     "data": {
      "text/plain": [
       "[2, 4, 6, 8, 3, 6, 9, 12]"
      ]
     },
     "execution_count": 57,
     "metadata": {},
     "output_type": "execute_result"
    }
   ],
   "source": [
    "[i * j for j in range(2,4) for i in range(1, 5)]"
   ]
  },
  {
   "cell_type": "markdown",
   "id": "tutorial-saskatchewan",
   "metadata": {},
   "source": [
    "#### map()"
   ]
  },
  {
   "cell_type": "code",
   "execution_count": 58,
   "id": "classical-loading",
   "metadata": {},
   "outputs": [
    {
     "data": {
      "text/plain": [
       "[1, 4, 9, 16, 25]"
      ]
     },
     "execution_count": 58,
     "metadata": {},
     "output_type": "execute_result"
    }
   ],
   "source": [
    "a = [1, 2, 3, 4, 5]\n",
    "list(map(lambda x: x**2, a))"
   ]
  },
  {
   "cell_type": "code",
   "execution_count": 60,
   "id": "separate-scoop",
   "metadata": {},
   "outputs": [
    {
     "data": {
      "text/plain": [
       "[1, 2, 3, 4, 5, 100]"
      ]
     },
     "execution_count": 60,
     "metadata": {},
     "output_type": "execute_result"
    }
   ],
   "source": [
    "a[len(a):] = [100]\n",
    "a"
   ]
  },
  {
   "cell_type": "markdown",
   "id": "matched-dublin",
   "metadata": {},
   "source": [
    "#### 심사문제"
   ]
  },
  {
   "cell_type": "code",
   "execution_count": 61,
   "id": "dried-script",
   "metadata": {},
   "outputs": [
    {
     "name": "stdout",
     "output_type": "stream",
     "text": [
      "1 10\n"
     ]
    },
    {
     "data": {
      "text/plain": [
       "[2, 4, 8, 16, 32, 64, 128, 256, 512, 1024]"
      ]
     },
     "execution_count": 61,
     "metadata": {},
     "output_type": "execute_result"
    }
   ],
   "source": [
    "start, end = map(int, input().split())\n",
    "print([2**i for i in range(start, end + 1)])"
   ]
  }
 ],
 "metadata": {
  "kernelspec": {
   "display_name": "Python 3",
   "language": "python",
   "name": "python3"
  },
  "language_info": {
   "codemirror_mode": {
    "name": "ipython",
    "version": 3
   },
   "file_extension": ".py",
   "mimetype": "text/x-python",
   "name": "python",
   "nbconvert_exporter": "python",
   "pygments_lexer": "ipython3",
   "version": "3.7.9"
  }
 },
 "nbformat": 4,
 "nbformat_minor": 5
}
