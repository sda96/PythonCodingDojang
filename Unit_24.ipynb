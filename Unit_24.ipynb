{
 "cells": [
  {
   "cell_type": "markdown",
   "id": "literary-empire",
   "metadata": {},
   "source": [
    "### Unit. 24"
   ]
  },
  {
   "cell_type": "markdown",
   "id": "unique-breathing",
   "metadata": {},
   "source": [
    "#### 24.2 문자열 조작하기"
   ]
  },
  {
   "cell_type": "markdown",
   "id": "complimentary-siemens",
   "metadata": {},
   "source": [
    "문자열 바꾸기"
   ]
  },
  {
   "cell_type": "code",
   "execution_count": 1,
   "id": "cathedral-denmark",
   "metadata": {
    "scrolled": true
   },
   "outputs": [
    {
     "data": {
      "text/plain": [
       "'Hello, Python!'"
      ]
     },
     "execution_count": 1,
     "metadata": {},
     "output_type": "execute_result"
    }
   ],
   "source": [
    "'Hello, world!'.replace('world', 'Python')"
   ]
  },
  {
   "cell_type": "markdown",
   "id": "amateur-exclusive",
   "metadata": {},
   "source": [
    "문자 바꾸기"
   ]
  },
  {
   "cell_type": "code",
   "execution_count": 2,
   "id": "recreational-prince",
   "metadata": {},
   "outputs": [
    {
     "data": {
      "text/plain": [
       "'1ppl2'"
      ]
     },
     "execution_count": 2,
     "metadata": {},
     "output_type": "execute_result"
    }
   ],
   "source": [
    "table = str.maketrans('aeiou', '12345')\n",
    "'apple'.translate(table)"
   ]
  },
  {
   "cell_type": "markdown",
   "id": "surgical-screw",
   "metadata": {},
   "source": [
    "문자열 분리하기"
   ]
  },
  {
   "cell_type": "code",
   "execution_count": 3,
   "id": "experimental-major",
   "metadata": {
    "scrolled": true
   },
   "outputs": [
    {
     "data": {
      "text/plain": [
       "['apple', 'pear', 'grape', 'pineapple', 'orange']"
      ]
     },
     "execution_count": 3,
     "metadata": {},
     "output_type": "execute_result"
    }
   ],
   "source": [
    "'apple pear grape pineapple orange'.split()"
   ]
  },
  {
   "cell_type": "markdown",
   "id": "beautiful-newfoundland",
   "metadata": {},
   "source": [
    "구분자 문자열 리스트 연결하기"
   ]
  },
  {
   "cell_type": "code",
   "execution_count": 4,
   "id": "included-malpractice",
   "metadata": {},
   "outputs": [
    {
     "data": {
      "text/plain": [
       "'apple pear grape pineapple orange'"
      ]
     },
     "execution_count": 4,
     "metadata": {},
     "output_type": "execute_result"
    }
   ],
   "source": [
    " ' '.join(['apple', 'pear', 'grape', 'pineapple', 'orange'])"
   ]
  },
  {
   "cell_type": "markdown",
   "id": "guided-reviewer",
   "metadata": {},
   "source": [
    "대문자로 바꾸기"
   ]
  },
  {
   "cell_type": "code",
   "execution_count": 5,
   "id": "loose-candle",
   "metadata": {},
   "outputs": [
    {
     "data": {
      "text/plain": [
       "'PYTHON'"
      ]
     },
     "execution_count": 5,
     "metadata": {},
     "output_type": "execute_result"
    }
   ],
   "source": [
    " 'python'.upper()"
   ]
  },
  {
   "cell_type": "markdown",
   "id": "instructional-department",
   "metadata": {},
   "source": [
    "대문자를 소문자로 바꾸기"
   ]
  },
  {
   "cell_type": "code",
   "execution_count": 6,
   "id": "dependent-bloom",
   "metadata": {},
   "outputs": [
    {
     "data": {
      "text/plain": [
       "'python'"
      ]
     },
     "execution_count": 6,
     "metadata": {},
     "output_type": "execute_result"
    }
   ],
   "source": [
    "'PYTHON'.lower()"
   ]
  },
  {
   "cell_type": "markdown",
   "id": "innovative-running",
   "metadata": {},
   "source": [
    "왼쪽 공백 삭제하기"
   ]
  },
  {
   "cell_type": "code",
   "execution_count": 7,
   "id": "lonely-championship",
   "metadata": {},
   "outputs": [
    {
     "data": {
      "text/plain": [
       "'Python   '"
      ]
     },
     "execution_count": 7,
     "metadata": {},
     "output_type": "execute_result"
    }
   ],
   "source": [
    "'   Python   '.lstrip()"
   ]
  },
  {
   "cell_type": "markdown",
   "id": "removed-yemen",
   "metadata": {},
   "source": [
    "왼쪽의 특정 문자 삭제하기"
   ]
  },
  {
   "cell_type": "code",
   "execution_count": 8,
   "id": "chubby-dealer",
   "metadata": {},
   "outputs": [
    {
     "data": {
      "text/plain": [
       "' python.'"
      ]
     },
     "execution_count": 8,
     "metadata": {},
     "output_type": "execute_result"
    }
   ],
   "source": [
    "', python.'.lstrip(',.')"
   ]
  },
  {
   "cell_type": "markdown",
   "id": "entitled-spice",
   "metadata": {},
   "source": [
    "오른쪽 공백 삭제하기"
   ]
  },
  {
   "cell_type": "code",
   "execution_count": 9,
   "id": "arabic-tooth",
   "metadata": {},
   "outputs": [
    {
     "data": {
      "text/plain": [
       "'   Python'"
      ]
     },
     "execution_count": 9,
     "metadata": {},
     "output_type": "execute_result"
    }
   ],
   "source": [
    "'   Python   '.rstrip()"
   ]
  },
  {
   "cell_type": "markdown",
   "id": "exact-summer",
   "metadata": {},
   "source": [
    "양쪽 공백 삭제하기"
   ]
  },
  {
   "cell_type": "code",
   "execution_count": 10,
   "id": "afraid-latter",
   "metadata": {},
   "outputs": [
    {
     "data": {
      "text/plain": [
       "'Python'"
      ]
     },
     "execution_count": 10,
     "metadata": {},
     "output_type": "execute_result"
    }
   ],
   "source": [
    " '   Python   '.strip()"
   ]
  },
  {
   "cell_type": "markdown",
   "id": "academic-provincial",
   "metadata": {},
   "source": [
    "양쪽의 특정 문자 삭제하기"
   ]
  },
  {
   "cell_type": "code",
   "execution_count": 11,
   "id": "another-franchise",
   "metadata": {},
   "outputs": [
    {
     "data": {
      "text/plain": [
       "' python'"
      ]
     },
     "execution_count": 11,
     "metadata": {},
     "output_type": "execute_result"
    }
   ],
   "source": [
    " ', python.'.strip(',.')"
   ]
  },
  {
   "cell_type": "markdown",
   "id": "dirty-rough",
   "metadata": {},
   "source": [
    "문자열을 왼쪽 정렬하기"
   ]
  },
  {
   "cell_type": "code",
   "execution_count": 12,
   "id": "young-bermuda",
   "metadata": {},
   "outputs": [
    {
     "data": {
      "text/plain": [
       "'python    '"
      ]
     },
     "execution_count": 12,
     "metadata": {},
     "output_type": "execute_result"
    }
   ],
   "source": [
    " 'python'.ljust(10)"
   ]
  },
  {
   "cell_type": "markdown",
   "id": "british-provider",
   "metadata": {},
   "source": [
    "문자열을 오른쪽 정렬하기"
   ]
  },
  {
   "cell_type": "code",
   "execution_count": 13,
   "id": "continuing-powder",
   "metadata": {},
   "outputs": [
    {
     "data": {
      "text/plain": [
       "'    python'"
      ]
     },
     "execution_count": 13,
     "metadata": {},
     "output_type": "execute_result"
    }
   ],
   "source": [
    "'python'.rjust(10)"
   ]
  },
  {
   "cell_type": "markdown",
   "id": "higher-dynamics",
   "metadata": {},
   "source": [
    "문자열을 가운데 정렬하기"
   ]
  },
  {
   "cell_type": "code",
   "execution_count": 14,
   "id": "racial-chinese",
   "metadata": {},
   "outputs": [
    {
     "data": {
      "text/plain": [
       "'  python  '"
      ]
     },
     "execution_count": 14,
     "metadata": {},
     "output_type": "execute_result"
    }
   ],
   "source": [
    "'python'.center(10)"
   ]
  },
  {
   "cell_type": "markdown",
   "id": "important-karen",
   "metadata": {},
   "source": [
    "메서드 체이닝"
   ]
  },
  {
   "cell_type": "code",
   "execution_count": 15,
   "id": "stopped-uncertainty",
   "metadata": {},
   "outputs": [
    {
     "data": {
      "text/plain": [
       "'    PYTHON'"
      ]
     },
     "execution_count": 15,
     "metadata": {},
     "output_type": "execute_result"
    }
   ],
   "source": [
    "'python'.rjust(10).upper()"
   ]
  },
  {
   "cell_type": "markdown",
   "id": "offensive-selection",
   "metadata": {},
   "source": [
    "문자열 왼쪽에 0 채우기"
   ]
  },
  {
   "cell_type": "code",
   "execution_count": 16,
   "id": "sustainable-harvard",
   "metadata": {},
   "outputs": [
    {
     "data": {
      "text/plain": [
       "'00000hello'"
      ]
     },
     "execution_count": 16,
     "metadata": {},
     "output_type": "execute_result"
    }
   ],
   "source": [
    "'hello'.zfill(10)"
   ]
  },
  {
   "cell_type": "markdown",
   "id": "copyrighted-bulgarian",
   "metadata": {},
   "source": [
    "문자열 위치 찾기"
   ]
  },
  {
   "cell_type": "code",
   "execution_count": 17,
   "id": "proved-device",
   "metadata": {},
   "outputs": [
    {
     "data": {
      "text/plain": [
       "2"
      ]
     },
     "execution_count": 17,
     "metadata": {},
     "output_type": "execute_result"
    }
   ],
   "source": [
    "'apple pineapple'.find('pl')"
   ]
  },
  {
   "cell_type": "markdown",
   "id": "incorrect-saudi",
   "metadata": {},
   "source": [
    "문자열 개수 세기"
   ]
  },
  {
   "cell_type": "code",
   "execution_count": 18,
   "id": "rolled-mills",
   "metadata": {},
   "outputs": [
    {
     "data": {
      "text/plain": [
       "2"
      ]
     },
     "execution_count": 18,
     "metadata": {},
     "output_type": "execute_result"
    }
   ],
   "source": [
    "'apple pineapple'.count('pl')"
   ]
  },
  {
   "cell_type": "markdown",
   "id": "dense-pathology",
   "metadata": {},
   "source": [
    "#### 24.2 문자열 서식 지정자와 포메팅 사용하기"
   ]
  },
  {
   "cell_type": "markdown",
   "id": "dense-selling",
   "metadata": {},
   "source": [
    "서식 지정자로 문자열 넣기"
   ]
  },
  {
   "cell_type": "code",
   "execution_count": 19,
   "id": "present-dating",
   "metadata": {},
   "outputs": [
    {
     "data": {
      "text/plain": [
       "'I am james.'"
      ]
     },
     "execution_count": 19,
     "metadata": {},
     "output_type": "execute_result"
    }
   ],
   "source": [
    "'I am %s.' % 'james'"
   ]
  },
  {
   "cell_type": "markdown",
   "id": "congressional-royalty",
   "metadata": {},
   "source": [
    "서식 지정자로 숫자 넣기"
   ]
  },
  {
   "cell_type": "code",
   "execution_count": 20,
   "id": "monetary-visitor",
   "metadata": {},
   "outputs": [
    {
     "data": {
      "text/plain": [
       "'I am 20 years old.'"
      ]
     },
     "execution_count": 20,
     "metadata": {},
     "output_type": "execute_result"
    }
   ],
   "source": [
    " 'I am %d years old.' % 20"
   ]
  },
  {
   "cell_type": "markdown",
   "id": "expressed-belief",
   "metadata": {},
   "source": [
    "서식 지정자로 소수점 표현하기"
   ]
  },
  {
   "cell_type": "code",
   "execution_count": 21,
   "id": "attended-crown",
   "metadata": {},
   "outputs": [
    {
     "data": {
      "text/plain": [
       "'2.300000'"
      ]
     },
     "execution_count": 21,
     "metadata": {},
     "output_type": "execute_result"
    }
   ],
   "source": [
    " '%f' % 2.3"
   ]
  },
  {
   "cell_type": "markdown",
   "id": "curious-hunter",
   "metadata": {},
   "source": [
    "서식 지정자로 문자열 정렬하기"
   ]
  },
  {
   "cell_type": "code",
   "execution_count": 22,
   "id": "classified-mustang",
   "metadata": {},
   "outputs": [
    {
     "data": {
      "text/plain": [
       "'    python'"
      ]
     },
     "execution_count": 22,
     "metadata": {},
     "output_type": "execute_result"
    }
   ],
   "source": [
    " '%10s' % 'python'"
   ]
  },
  {
   "cell_type": "markdown",
   "id": "extra-sitting",
   "metadata": {},
   "source": [
    "자릿수가 다른 숫자 출력하기"
   ]
  },
  {
   "cell_type": "code",
   "execution_count": 23,
   "id": "reverse-declaration",
   "metadata": {},
   "outputs": [
    {
     "name": "stdout",
     "output_type": "stream",
     "text": [
      "       150\n",
      "     15000\n",
      "      2.30\n",
      "   2000.30\n",
      "python    \n"
     ]
    }
   ],
   "source": [
    "print('%10d' % 150)\n",
    "print('%10d' % 15000)\n",
    "print( '%10.2f' % 2.3)\n",
    "print( '%10.2f' % 2000.3)\n",
    "print( '%-10s' % 'python')"
   ]
  },
  {
   "cell_type": "markdown",
   "id": "novel-substitute",
   "metadata": {},
   "source": [
    "서식 지정자로 문자열 안에 값 여러 개 넣기"
   ]
  },
  {
   "cell_type": "code",
   "execution_count": 24,
   "id": "coupled-correction",
   "metadata": {},
   "outputs": [
    {
     "data": {
      "text/plain": [
       "'Today is 3 April.'"
      ]
     },
     "execution_count": 24,
     "metadata": {},
     "output_type": "execute_result"
    }
   ],
   "source": [
    "'Today is %d %s.' % (3, 'April')"
   ]
  },
  {
   "cell_type": "markdown",
   "id": "welcome-characterization",
   "metadata": {},
   "source": [
    "format 메서드 사용하기"
   ]
  },
  {
   "cell_type": "code",
   "execution_count": 25,
   "id": "known-overview",
   "metadata": {},
   "outputs": [
    {
     "data": {
      "text/plain": [
       "'Hello, world!'"
      ]
     },
     "execution_count": 25,
     "metadata": {},
     "output_type": "execute_result"
    }
   ],
   "source": [
    " 'Hello, {0}'.format('world!')"
   ]
  },
  {
   "cell_type": "markdown",
   "id": "northern-forest",
   "metadata": {},
   "source": [
    "format 메서드로 값을 여러 개 넣기"
   ]
  },
  {
   "cell_type": "code",
   "execution_count": 26,
   "id": "pressing-evening",
   "metadata": {},
   "outputs": [
    {
     "data": {
      "text/plain": [
       "'Hello, Python 3.6 Script'"
      ]
     },
     "execution_count": 26,
     "metadata": {},
     "output_type": "execute_result"
    }
   ],
   "source": [
    "'Hello, {0} {2} {1}'.format('Python', 'Script', 3.6)"
   ]
  },
  {
   "cell_type": "markdown",
   "id": "convenient-sucking",
   "metadata": {},
   "source": [
    "format 메서드로 같은 값을 여러 개 넣기"
   ]
  },
  {
   "cell_type": "code",
   "execution_count": 27,
   "id": "worst-dressing",
   "metadata": {},
   "outputs": [
    {
     "data": {
      "text/plain": [
       "'Python Python Script Script'"
      ]
     },
     "execution_count": 27,
     "metadata": {},
     "output_type": "execute_result"
    }
   ],
   "source": [
    " '{0} {0} {1} {1}'.format('Python', 'Script')"
   ]
  },
  {
   "cell_type": "markdown",
   "id": "clear-makeup",
   "metadata": {},
   "source": [
    "format 메서드에서 인덱스 생략하기"
   ]
  },
  {
   "cell_type": "code",
   "execution_count": 28,
   "id": "collectible-distribution",
   "metadata": {},
   "outputs": [
    {
     "data": {
      "text/plain": [
       "'Hello, Python 3.6'"
      ]
     },
     "execution_count": 28,
     "metadata": {},
     "output_type": "execute_result"
    }
   ],
   "source": [
    "'Hello, {language} {version}'.format(language='Python', version=3.6)"
   ]
  },
  {
   "cell_type": "markdown",
   "id": "seasonal-generation",
   "metadata": {},
   "source": [
    "문자열 포매팅에 변수를 그대로 사용하기"
   ]
  },
  {
   "cell_type": "code",
   "execution_count": 29,
   "id": "impressive-international",
   "metadata": {},
   "outputs": [
    {
     "data": {
      "text/plain": [
       "'Hello, Python 3.6'"
      ]
     },
     "execution_count": 29,
     "metadata": {},
     "output_type": "execute_result"
    }
   ],
   "source": [
    "language = 'Python'\n",
    "version = 3.6\n",
    "f'Hello, {language} {version}'"
   ]
  },
  {
   "cell_type": "code",
   "execution_count": 30,
   "id": "frank-grass",
   "metadata": {},
   "outputs": [
    {
     "data": {
      "text/plain": [
       "'{ Python }'"
      ]
     },
     "execution_count": 30,
     "metadata": {},
     "output_type": "execute_result"
    }
   ],
   "source": [
    " '{{ {0} }}'.format('Python')"
   ]
  },
  {
   "cell_type": "markdown",
   "id": "published-aggregate",
   "metadata": {},
   "source": [
    "format 메서드로 문자열 정렬하기"
   ]
  },
  {
   "cell_type": "code",
   "execution_count": 31,
   "id": "brown-logan",
   "metadata": {},
   "outputs": [
    {
     "name": "stdout",
     "output_type": "stream",
     "text": [
      "python    \n",
      "    python\n"
     ]
    }
   ],
   "source": [
    "print('{0:<10}'.format('python'))\n",
    "print('{0:>10}'.format('python'))"
   ]
  },
  {
   "cell_type": "markdown",
   "id": "north-manhattan",
   "metadata": {},
   "source": [
    "숫자 개수 맞추기"
   ]
  },
  {
   "cell_type": "code",
   "execution_count": 32,
   "id": "beneficial-saying",
   "metadata": {},
   "outputs": [
    {
     "data": {
      "text/plain": [
       "'001'"
      ]
     },
     "execution_count": 32,
     "metadata": {},
     "output_type": "execute_result"
    }
   ],
   "source": [
    " '%03d' % 1"
   ]
  },
  {
   "cell_type": "markdown",
   "id": "alike-minnesota",
   "metadata": {},
   "source": [
    "채우기와 정렬을 조합해서 사용하기"
   ]
  },
  {
   "cell_type": "code",
   "execution_count": 33,
   "id": "comparative-coordination",
   "metadata": {
    "scrolled": true
   },
   "outputs": [
    {
     "name": "stdout",
     "output_type": "stream",
     "text": [
      "1500000000\n",
      "0000000015\n"
     ]
    }
   ],
   "source": [
    "print('{0:0<10}'.format(15))    # 길이 10, 왼쪽으로 정렬하고 남는 공간은 0으로 채움\n",
    "print( '{0:0>10}'.format(15))    # 길이 10, 오른쪽으로 정렬하고 남는 공간은 0으로 채움"
   ]
  },
  {
   "cell_type": "code",
   "execution_count": 34,
   "id": "verified-ordinary",
   "metadata": {},
   "outputs": [
    {
     "data": {
      "text/plain": [
       "'0000015.00'"
      ]
     },
     "execution_count": 34,
     "metadata": {},
     "output_type": "execute_result"
    }
   ],
   "source": [
    "'{0:0>10.2f}'.format(15)    # 길이 10, 오른쪽으로 정렬하고 소수점 자릿수는 2자리"
   ]
  },
  {
   "cell_type": "code",
   "execution_count": 35,
   "id": "applicable-snake",
   "metadata": {},
   "outputs": [
    {
     "data": {
      "text/plain": [
       "'        15'"
      ]
     },
     "execution_count": 35,
     "metadata": {},
     "output_type": "execute_result"
    }
   ],
   "source": [
    "'{0: >10}'.format(15)    # 남는 공간을 공백으로 채움"
   ]
  },
  {
   "cell_type": "code",
   "execution_count": 36,
   "id": "peaceful-gregory",
   "metadata": {},
   "outputs": [
    {
     "data": {
      "text/plain": [
       "'        15'"
      ]
     },
     "execution_count": 36,
     "metadata": {},
     "output_type": "execute_result"
    }
   ],
   "source": [
    "'{0:>10}'.format(15)     # 채우기 부분을 생략하면 공백이 들어감"
   ]
  },
  {
   "cell_type": "code",
   "execution_count": 37,
   "id": "educated-faith",
   "metadata": {},
   "outputs": [
    {
     "data": {
      "text/plain": [
       "'xxxxxxxx15'"
      ]
     },
     "execution_count": 37,
     "metadata": {},
     "output_type": "execute_result"
    }
   ],
   "source": [
    " '{0:x>10}'.format(15)    # 남는 공간을 문자 x로 채움"
   ]
  },
  {
   "cell_type": "markdown",
   "id": "revolutionary-reception",
   "metadata": {},
   "source": [
    "format(숫자, ',')"
   ]
  },
  {
   "cell_type": "code",
   "execution_count": 38,
   "id": "rising-bermuda",
   "metadata": {},
   "outputs": [
    {
     "data": {
      "text/plain": [
       "'1,493,500'"
      ]
     },
     "execution_count": 38,
     "metadata": {},
     "output_type": "execute_result"
    }
   ],
   "source": [
    "format(1493500, ',')"
   ]
  },
  {
   "cell_type": "code",
   "execution_count": 39,
   "id": "packed-three",
   "metadata": {
    "scrolled": true
   },
   "outputs": [
    {
     "data": {
      "text/plain": [
       "'           1,493,500'"
      ]
     },
     "execution_count": 39,
     "metadata": {},
     "output_type": "execute_result"
    }
   ],
   "source": [
    " '%20s' % format(1493500, ',')    # 길이 20, 오른쪽으로 정렬"
   ]
  },
  {
   "cell_type": "markdown",
   "id": "suitable-access",
   "metadata": {},
   "source": [
    "#### 심사문제"
   ]
  },
  {
   "cell_type": "code",
   "execution_count": null,
   "id": "promising-lindsay",
   "metadata": {},
   "outputs": [],
   "source": [
    "s = input()\n"
   ]
  },
  {
   "cell_type": "code",
   "execution_count": 42,
   "id": "uniform-filename",
   "metadata": {
    "scrolled": true
   },
   "outputs": [
    {
     "data": {
      "text/plain": [
       "'I am -20 years old.'"
      ]
     },
     "execution_count": 42,
     "metadata": {},
     "output_type": "execute_result"
    }
   ],
   "source": [
    "'I am %d years old.' % -20.12"
   ]
  },
  {
   "cell_type": "markdown",
   "id": "powerful-aruba",
   "metadata": {},
   "source": [
    "반올림"
   ]
  },
  {
   "cell_type": "code",
   "execution_count": 48,
   "id": "dimensional-kingdom",
   "metadata": {},
   "outputs": [
    {
     "data": {
      "text/plain": [
       "'2.44'"
      ]
     },
     "execution_count": 48,
     "metadata": {},
     "output_type": "execute_result"
    }
   ],
   "source": [
    " '%.2f' % 2.4444"
   ]
  },
  {
   "cell_type": "code",
   "execution_count": 47,
   "id": "chronic-merit",
   "metadata": {},
   "outputs": [
    {
     "data": {
      "text/plain": [
       "'2.45'"
      ]
     },
     "execution_count": 47,
     "metadata": {},
     "output_type": "execute_result"
    }
   ],
   "source": [
    "'%.2f' % 2.4456"
   ]
  }
 ],
 "metadata": {
  "kernelspec": {
   "display_name": "Python 3",
   "language": "python",
   "name": "python3"
  },
  "language_info": {
   "codemirror_mode": {
    "name": "ipython",
    "version": 3
   },
   "file_extension": ".py",
   "mimetype": "text/x-python",
   "name": "python",
   "nbconvert_exporter": "python",
   "pygments_lexer": "ipython3",
   "version": "3.7.9"
  }
 },
 "nbformat": 4,
 "nbformat_minor": 5
}
