{
 "cells": [
  {
   "cell_type": "markdown",
   "id": "hollywood-prime",
   "metadata": {},
   "source": [
    "### Unit. 23 2차원 리스트 사용하기"
   ]
  },
  {
   "cell_type": "code",
   "execution_count": 3,
   "id": "labeled-punch",
   "metadata": {},
   "outputs": [],
   "source": [
    "[i for i in range(10000)]\n",
    "\n",
    "%timeit"
   ]
  },
  {
   "cell_type": "markdown",
   "id": "quick-plumbing",
   "metadata": {},
   "source": [
    "메모리 주소값만 복사하면 얕은거고 값자체를 다 복사하면 깊은겁니다"
   ]
  }
 ],
 "metadata": {
  "kernelspec": {
   "display_name": "Python 3",
   "language": "python",
   "name": "python3"
  },
  "language_info": {
   "codemirror_mode": {
    "name": "ipython",
    "version": 3
   },
   "file_extension": ".py",
   "mimetype": "text/x-python",
   "name": "python",
   "nbconvert_exporter": "python",
   "pygments_lexer": "ipython3",
   "version": "3.7.9"
  }
 },
 "nbformat": 4,
 "nbformat_minor": 5
}
