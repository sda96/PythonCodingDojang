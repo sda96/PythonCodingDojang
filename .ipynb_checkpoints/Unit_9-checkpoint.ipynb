{
 "cells": [
  {
   "cell_type": "markdown",
   "id": "compatible-member",
   "metadata": {},
   "source": [
    "### Unit.9 문자열 사용하기"
   ]
  },
  {
   "cell_type": "markdown",
   "id": "harmful-trading",
   "metadata": {},
   "source": [
    "#### 9.1 문자열 사용하기"
   ]
  },
  {
   "cell_type": "code",
   "execution_count": 2,
   "id": "through-treasurer",
   "metadata": {},
   "outputs": [
    {
     "data": {
      "text/plain": [
       "'Hello, world!'"
      ]
     },
     "execution_count": 2,
     "metadata": {},
     "output_type": "execute_result"
    }
   ],
   "source": [
    "hello = \"Hello, world!\"\n",
    "hello"
   ]
  },
  {
   "cell_type": "code",
   "execution_count": 4,
   "id": "short-penalty",
   "metadata": {},
   "outputs": [
    {
     "data": {
      "text/plain": [
       "'ganandara\\nmabasa'"
      ]
     },
     "execution_count": 4,
     "metadata": {},
     "output_type": "execute_result"
    }
   ],
   "source": [
    "hello = \"\"\"ganandara\n",
    "mabasa\"\"\" \n",
    "hello"
   ]
  },
  {
   "cell_type": "code",
   "execution_count": 6,
   "id": "impaired-frequency",
   "metadata": {},
   "outputs": [
    {
     "data": {
      "text/plain": [
       "'안에서 쌍따옴표 \"를 쓸려면 밖에서 따옴표를 쓴다'"
      ]
     },
     "execution_count": 6,
     "metadata": {},
     "output_type": "execute_result"
    }
   ],
   "source": [
    "ex = '안에서 쌍따옴표 \"를 쓸려면 밖에서 따옴표를 쓴다'\n",
    "ex"
   ]
  },
  {
   "cell_type": "code",
   "execution_count": 7,
   "id": "precise-governor",
   "metadata": {},
   "outputs": [
    {
     "data": {
      "text/plain": [
       "\"안에서 따옴표를 쓸려면 '로 가능\""
      ]
     },
     "execution_count": 7,
     "metadata": {},
     "output_type": "execute_result"
    }
   ],
   "source": [
    "ex = '안에서 따옴표를 쓸려면 \\'로 가능'\n",
    "ex"
   ]
  },
  {
   "cell_type": "markdown",
   "id": "timely-desperate",
   "metadata": {},
   "source": [
    "#### 9.3 연습 문제 : 여러 줄로 된 문자열 사용하기"
   ]
  },
  {
   "cell_type": "code",
   "execution_count": 12,
   "id": "absolute-jimmy",
   "metadata": {},
   "outputs": [
    {
     "name": "stdout",
     "output_type": "stream",
     "text": [
      "Python is a programming language that lets you work quickly\n",
      "and\n",
      "integrate systems more effectively\n"
     ]
    }
   ],
   "source": [
    "s = \"\"\"Python is a programming language that lets you work quickly\n",
    "and\n",
    "integrate systems more effectively\"\"\"\n",
    "print(s)"
   ]
  },
  {
   "cell_type": "markdown",
   "id": "european-player",
   "metadata": {},
   "source": [
    "#### 9.4 연습 문제 : 여러 줄로 된 문자열 사용하기"
   ]
  }
 ],
 "metadata": {
  "kernelspec": {
   "display_name": "Python 3",
   "language": "python",
   "name": "python3"
  },
  "language_info": {
   "codemirror_mode": {
    "name": "ipython",
    "version": 3
   },
   "file_extension": ".py",
   "mimetype": "text/x-python",
   "name": "python",
   "nbconvert_exporter": "python",
   "pygments_lexer": "ipython3",
   "version": "3.7.9"
  }
 },
 "nbformat": 4,
 "nbformat_minor": 5
}
