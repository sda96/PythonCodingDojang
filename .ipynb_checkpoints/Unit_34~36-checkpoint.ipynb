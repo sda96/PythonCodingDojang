{
 "cells": [
  {
   "cell_type": "code",
   "execution_count": 15,
   "id": "textile-mention",
   "metadata": {},
   "outputs": [
    {
     "ename": "AttributeError",
     "evalue": "type object 'Calc' has no attribute 'ff'",
     "output_type": "error",
     "traceback": [
      "\u001b[0;31m---------------------------------------------------------------------------\u001b[0m",
      "\u001b[0;31mAttributeError\u001b[0m                            Traceback (most recent call last)",
      "\u001b[0;32m<ipython-input-15-cc111d9d8c18>\u001b[0m in \u001b[0;36m<module>\u001b[0;34m\u001b[0m\n\u001b[0;32m----> 1\u001b[0;31m \u001b[0mCalc\u001b[0m\u001b[0;34m.\u001b[0m\u001b[0mff\u001b[0m\u001b[0;34m\u001b[0m\u001b[0;34m\u001b[0m\u001b[0m\n\u001b[0m",
      "\u001b[0;31mAttributeError\u001b[0m: type object 'Calc' has no attribute 'ff'"
     ]
    }
   ],
   "source": [
    "Calc.ff"
   ]
  },
  {
   "cell_type": "code",
   "execution_count": 14,
   "id": "adverse-regular",
   "metadata": {
    "scrolled": true
   },
   "outputs": [
    {
     "ename": "AttributeError",
     "evalue": "type object 'Calc' has no attribute 'ff'",
     "output_type": "error",
     "traceback": [
      "\u001b[0;31m---------------------------------------------------------------------------\u001b[0m",
      "\u001b[0;31mAttributeError\u001b[0m                            Traceback (most recent call last)",
      "\u001b[0;32m<ipython-input-14-62b5d05d8e57>\u001b[0m in \u001b[0;36m<module>\u001b[0;34m\u001b[0m\n\u001b[1;32m     18\u001b[0m \u001b[0;34m\u001b[0m\u001b[0m\n\u001b[1;32m     19\u001b[0m \u001b[0maaaa\u001b[0m \u001b[0;34m=\u001b[0m \u001b[0mCalc\u001b[0m\u001b[0;34m(\u001b[0m\u001b[0;34m)\u001b[0m\u001b[0;34m\u001b[0m\u001b[0;34m\u001b[0m\u001b[0m\n\u001b[0;32m---> 20\u001b[0;31m \u001b[0maaaa\u001b[0m\u001b[0;34m.\u001b[0m\u001b[0mdad\u001b[0m\u001b[0;34m(\u001b[0m\u001b[0;36m10\u001b[0m\u001b[0;34m,\u001b[0m\u001b[0;36m20\u001b[0m\u001b[0;34m)\u001b[0m\u001b[0;34m\u001b[0m\u001b[0;34m\u001b[0m\u001b[0m\n\u001b[0m",
      "\u001b[0;32m<ipython-input-14-62b5d05d8e57>\u001b[0m in \u001b[0;36mdad\u001b[0;34m(self, a, b)\u001b[0m\n\u001b[1;32m     15\u001b[0m     \u001b[0;34m@\u001b[0m\u001b[0mclassmethod\u001b[0m\u001b[0;34m\u001b[0m\u001b[0;34m\u001b[0m\u001b[0m\n\u001b[1;32m     16\u001b[0m     \u001b[0;32mdef\u001b[0m \u001b[0mdad\u001b[0m\u001b[0;34m(\u001b[0m\u001b[0mself\u001b[0m\u001b[0;34m,\u001b[0m \u001b[0ma\u001b[0m\u001b[0;34m,\u001b[0m \u001b[0mb\u001b[0m\u001b[0;34m)\u001b[0m\u001b[0;34m:\u001b[0m\u001b[0;34m\u001b[0m\u001b[0;34m\u001b[0m\u001b[0m\n\u001b[0;32m---> 17\u001b[0;31m         \u001b[0mprint\u001b[0m\u001b[0;34m(\u001b[0m\u001b[0ma\u001b[0m\u001b[0;34m,\u001b[0m \u001b[0mb\u001b[0m\u001b[0;34m,\u001b[0m \u001b[0mself\u001b[0m\u001b[0;34m.\u001b[0m\u001b[0mff\u001b[0m\u001b[0;34m)\u001b[0m\u001b[0;34m\u001b[0m\u001b[0;34m\u001b[0m\u001b[0m\n\u001b[0m\u001b[1;32m     18\u001b[0m \u001b[0;34m\u001b[0m\u001b[0m\n\u001b[1;32m     19\u001b[0m \u001b[0maaaa\u001b[0m \u001b[0;34m=\u001b[0m \u001b[0mCalc\u001b[0m\u001b[0;34m(\u001b[0m\u001b[0;34m)\u001b[0m\u001b[0;34m\u001b[0m\u001b[0;34m\u001b[0m\u001b[0m\n",
      "\u001b[0;31mAttributeError\u001b[0m: type object 'Calc' has no attribute 'ff'"
     ]
    }
   ],
   "source": [
    "class Calc:\n",
    "    d = 0\n",
    "    \n",
    "    def __init__(self):\n",
    "        self.ff = 50\n",
    "    \n",
    "    @staticmethod\n",
    "    def add(a, b):\n",
    "        print(a + b, d)\n",
    " \n",
    "    @staticmethod\n",
    "    def mul(a, b):\n",
    "        print(a * b)\n",
    "    \n",
    "    @classmethod\n",
    "    def dad(self, a, b):\n",
    "        print(a, b, self.ff)\n",
    "        \n",
    "aaaa = Calc()\n",
    "aaaa.dad(10,20)"
   ]
  },
  {
   "cell_type": "markdown",
   "id": "double-building",
   "metadata": {},
   "source": [
    "제가 방금 잘못말씀드렸네요 클래스 메소드는 객체와 상관없이 클래스와 관련된 함수기 때문에 각 객체의 변수에 접근할 수 없습니다. 클래스 메소드에 self를 넣어보니 되긴하지만 인스턴스의 값을 바꿔주진 않았습니다. 클래스는 인스턴스의 상위개념으로 클래스로 만들어진 객체들간의 전역변수, 전역함수느낌이라고 생각하시면 될것같습니다"
   ]
  },
  {
   "cell_type": "markdown",
   "id": "handmade-quantum",
   "metadata": {},
   "source": [
    "제가 방금 잘못말씀드렸네요 클래스 메소드는 인스턴스와 상관없이 클래스와 관련된 함수기 때문에 각 인스턴스의 속성에 접근할 수 없습니다. 클래스 메소드에 self를 넣어보니 되긴하지만 인스턴스의 값을 바꿔주진 않았습니다. 클래스는 인스턴스의 상위개념으로 클래스로 만들어진 인스턴스들간의 전역변수, 전역함수느낌이라고 생각하시면 될것같습니다"
   ]
  },
  {
   "cell_type": "code",
   "execution_count": 17,
   "id": "administrative-invitation",
   "metadata": {},
   "outputs": [],
   "source": [
    "class Person:\n",
    "    def greeting(self):\n",
    "        print('안녕하세요.')\n",
    "\n",
    "class PersonList:\n",
    "    def __init__(self):\n",
    "        self.person_list = []    # 리스트 속성에 Person 인스턴스를 넣어서 관리\n",
    " \n",
    "    def append_person(self, person:\"매개변수\"):    # 리스트 속성에 Person 인스턴스를 추가하는 함수\n",
    "        self.person_list.append(person)"
   ]
  },
  {
   "cell_type": "code",
   "execution_count": 37,
   "id": "infrared-requirement",
   "metadata": {
    "scrolled": true
   },
   "outputs": [
    {
     "name": "stdout",
     "output_type": "stream",
     "text": [
      "<__main__.PersonList object at 0x7f36348f8950>\n",
      "[]\n",
      "--------------------------------------------------\n",
      "<__main__.PersonList object at 0x7f36348f8950>\n",
      "[<__main__.Person object at 0x7f36348f8710>]\n",
      "안녕하세요.\n"
     ]
    }
   ],
   "source": [
    "person = Person()\n",
    "\n",
    "personlist = PersonList()\n",
    "print(personlist)\n",
    "print(personlist.person_list)\n",
    "personlist.append_person(person)\n",
    "\n",
    "print(\"-\"*50)\n",
    "print(personlist)\n",
    "print(personlist.person_list)\n",
    "personlist.person_list[0].greeting()"
   ]
  },
  {
   "cell_type": "markdown",
   "id": "external-serial",
   "metadata": {},
   "source": [
    "https://docs.python.org/ko/3.8/library/dis.html"
   ]
  }
 ],
 "metadata": {
  "kernelspec": {
   "display_name": "Python 3",
   "language": "python",
   "name": "python3"
  },
  "language_info": {
   "codemirror_mode": {
    "name": "ipython",
    "version": 3
   },
   "file_extension": ".py",
   "mimetype": "text/x-python",
   "name": "python",
   "nbconvert_exporter": "python",
   "pygments_lexer": "ipython3",
   "version": "3.7.9"
  }
 },
 "nbformat": 4,
 "nbformat_minor": 5
}
