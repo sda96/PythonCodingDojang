{
 "cells": [
  {
   "cell_type": "code",
   "execution_count": 32,
   "id": "positive-kingston",
   "metadata": {},
   "outputs": [
    {
     "name": "stdout",
     "output_type": "stream",
     "text": [
      "1.jpg 10.png 11.png 2.jpg 3.png\n",
      "['001.jpg', '010.png', '011.png', '002.jpg', '003.png']\n"
     ]
    }
   ],
   "source": [
    "files = input().split()\n",
    " \n",
    "print(list(map(lambda x: x.zfill(7) if \"jpg\" in , files)))"
   ]
  },
  {
   "cell_type": "code",
   "execution_count": 38,
   "id": "breeding-suggestion",
   "metadata": {},
   "outputs": [
    {
     "name": "stdout",
     "output_type": "stream",
     "text": [
      "97.xlsx 98.docx 99.docx 100.xlsx 101.docx 102.docx\n",
      "['097.xlsx', '098.docx', '099.docx', '100.xlsx', '101.docx', '102.docx']\n"
     ]
    }
   ],
   "source": [
    "files = input().split()\n",
    "print(list(map(lambda x: x.split(\".\")[0].zfill(3) + \".\" + x.split(\".\")[1], files)))"
   ]
  },
  {
   "cell_type": "code",
   "execution_count": 40,
   "id": "diagnostic-distribution",
   "metadata": {},
   "outputs": [
    {
     "name": "stdout",
     "output_type": "stream",
     "text": [
      "97.xlsx 98.docx 99.docx 100.xlsx 101.docx 102.docx\n",
      "['097.xlsx', '098.docx', '099.docx', '100.xlsx', '101.docx', '102.docx']\n"
     ]
    }
   ],
   "source": [
    "files = input().split()\n",
    "print(list(map(lambda x: \".\".join([x.split(\".\")[0].zfill(3), x.split(\".\")[1]]), files)))"
   ]
  },
  {
   "cell_type": "code",
   "execution_count": 24,
   "id": "abstract-birthday",
   "metadata": {},
   "outputs": [
    {
     "name": "stdout",
     "output_type": "stream",
     "text": [
      "815 µs ± 5.15 µs per loop (mean ± std. dev. of 7 runs, 1000 loops each)\n"
     ]
    }
   ],
   "source": [
    "x = list(range(10000))\n",
    "\n",
    "%timeit list(map(lambda x : x + 10, x))"
   ]
  },
  {
   "cell_type": "code",
   "execution_count": 25,
   "id": "precise-alliance",
   "metadata": {},
   "outputs": [
    {
     "name": "stdout",
     "output_type": "stream",
     "text": [
      "730 µs ± 12.2 µs per loop (mean ± std. dev. of 7 runs, 1000 loops each)\n"
     ]
    }
   ],
   "source": [
    "def ex(x):\n",
    "    return x + 10\n",
    "\n",
    "%timeit list(map(ex, x))"
   ]
  },
  {
   "cell_type": "code",
   "execution_count": 26,
   "id": "fewer-mission",
   "metadata": {
    "scrolled": true
   },
   "outputs": [
    {
     "name": "stdout",
     "output_type": "stream",
     "text": [
      "963 µs ± 11.6 µs per loop (mean ± std. dev. of 7 runs, 1000 loops each)\n"
     ]
    }
   ],
   "source": [
    "def ss(x):\n",
    "    d = []\n",
    "    for i in x:\n",
    "        d += [i + 10]\n",
    "    return d\n",
    "\n",
    "%timeit ss(x)"
   ]
  },
  {
   "cell_type": "code",
   "execution_count": 32,
   "id": "aggregate-stress",
   "metadata": {},
   "outputs": [
    {
     "name": "stdout",
     "output_type": "stream",
     "text": [
      "20\n",
      "20 19 18 17 16 15 14 13 12 11 10 9 8 7 6 5 4 3 2 1 "
     ]
    }
   ],
   "source": [
    "def countdown(n):\n",
    "    i = -1\n",
    "    def mul_add():\n",
    "        nonlocal i\n",
    "        i += 1\n",
    "        return n - i \n",
    "    return mul_add\n",
    "\n",
    "n = int(input())\n",
    "\n",
    "c = countdown(n)\n",
    "for i in range(n):\n",
    "    print(c(), end =\" \")"
   ]
  },
  {
   "cell_type": "code",
   "execution_count": 38,
   "id": "vocational-intranet",
   "metadata": {},
   "outputs": [
    {
     "name": "stdout",
     "output_type": "stream",
     "text": [
      "1803.68 1184.0 645\n"
     ]
    },
    {
     "data": {
      "text/plain": [
       "'티버: 피해량 819.25'"
      ]
     },
     "execution_count": 38,
     "metadata": {},
     "output_type": "execute_result"
    }
   ],
   "source": [
    "class Annie():\n",
    "    \n",
    "    def __init__(self, health, mana, ability_power):\n",
    "        self.health = health\n",
    "        self.mana = mana\n",
    "        self.ability_power = ability_power\n",
    "        \n",
    "    def tibbers(self):\n",
    "        return f\"티버: 피해량 {self.ability_power * 0.65 + 400}\"\n",
    "\n",
    "health, mana, ability_power = map(float, input().split())\n",
    "\n",
    "x = Annie(health = health, mana = mana, ability_power = ability_power)\n",
    "x.tibbers()"
   ]
  }
 ],
 "metadata": {
  "kernelspec": {
   "display_name": "Python 3",
   "language": "python",
   "name": "python3"
  },
  "language_info": {
   "codemirror_mode": {
    "name": "ipython",
    "version": 3
   },
   "file_extension": ".py",
   "mimetype": "text/x-python",
   "name": "python",
   "nbconvert_exporter": "python",
   "pygments_lexer": "ipython3",
   "version": "3.7.9"
  }
 },
 "nbformat": 4,
 "nbformat_minor": 5
}
