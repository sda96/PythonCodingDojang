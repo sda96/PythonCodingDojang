{
 "cells": [
  {
   "cell_type": "markdown",
   "id": "contemporary-producer",
   "metadata": {},
   "source": [
    "### Unit. 13 if 조건문"
   ]
  },
  {
   "cell_type": "markdown",
   "id": "mental-lithuania",
   "metadata": {},
   "source": [
    "조건문은 특정 조건일 떄 코드를 실행하는 문법입니다."
   ]
  },
  {
   "cell_type": "code",
   "execution_count": 3,
   "id": "seventh-iceland",
   "metadata": {},
   "outputs": [
    {
     "name": "stdout",
     "output_type": "stream",
     "text": [
      "1000보다 크네요\n"
     ]
    }
   ],
   "source": [
    "x = 1004\n",
    "if x < 1000:\n",
    "    print(\"1000보다 작네요\")\n",
    "print(\"1000보다 크네요\")"
   ]
  },
  {
   "cell_type": "code",
   "execution_count": 1,
   "id": "missing-disco",
   "metadata": {},
   "outputs": [
    {
     "name": "stdout",
     "output_type": "stream",
     "text": [
      "1000보다 크네요\n"
     ]
    }
   ],
   "source": [
    "x = 1004\n",
    "if x < 1000:\n",
    "    print(\"1000보다 작네요\")\n",
    "else:\n",
    "    print(\"1000보다 크네요\")"
   ]
  },
  {
   "cell_type": "code",
   "execution_count": 2,
   "id": "military-intent",
   "metadata": {},
   "outputs": [
    {
     "name": "stdout",
     "output_type": "stream",
     "text": [
      "1000보다 작고 500보다 크네요\n"
     ]
    }
   ],
   "source": [
    "x = 502\n",
    "if x < 1000:\n",
    "    if x > 500:\n",
    "        print(\"1000보다 작고 500보다 크네요\")\n",
    "    else:\n",
    "        print(\"500보다 작네요\")\n",
    "else:\n",
    "    print(\"1000보다 크네요\")"
   ]
  },
  {
   "cell_type": "code",
   "execution_count": 4,
   "id": "wrapped-spokesman",
   "metadata": {},
   "outputs": [
    {
     "data": {
      "text/plain": [
       "0"
      ]
     },
     "execution_count": 4,
     "metadata": {},
     "output_type": "execute_result"
    }
   ],
   "source": [
    "x = 5\n",
    "y = x if x == 10 else 0\n",
    "y"
   ]
  },
  {
   "cell_type": "code",
   "execution_count": 5,
   "id": "regulated-maria",
   "metadata": {},
   "outputs": [
    {
     "name": "stdout",
     "output_type": "stream",
     "text": [
      "참\n",
      "거짓\n",
      "거짓\n"
     ]
    }
   ],
   "source": [
    "if True:\n",
    "    print('참')    # True는 참\n",
    "else:\n",
    "    print('거짓')\n",
    "\n",
    "if False:\n",
    "    print('참')\n",
    "else:\n",
    "    print('거짓')    # False는 거짓\n",
    "\n",
    "if None:\n",
    "    print('참')\n",
    "else:\n",
    "    print('거짓')    # None은 거짓"
   ]
  },
  {
   "cell_type": "code",
   "execution_count": 6,
   "id": "immediate-rhythm",
   "metadata": {
    "scrolled": true
   },
   "outputs": [
    {
     "name": "stdout",
     "output_type": "stream",
     "text": [
      "거짓\n",
      "참\n",
      "참\n",
      "참\n",
      "참\n"
     ]
    }
   ],
   "source": [
    "if 0:\n",
    "    print('참')\n",
    "else:\n",
    "    print('거짓')    # 0은 거짓\n",
    "\n",
    "if 1:\n",
    "    print('참')    # 1은 참\n",
    "else:\n",
    "    print('거짓')\n",
    "\n",
    "if 0x1F:    # 16진수\n",
    "    print('참')    # 0x1F는 참\n",
    "else:\n",
    "    print('거짓')\n",
    "\n",
    "if 0b1000:    # 2진수\n",
    "    print('참')    # 0b1000은 참\n",
    "else:\n",
    "    print('거짓')\n",
    "\n",
    "if 13.5:    # 실수\n",
    "    print('참')    # 13.5는 참\n",
    "else:\n",
    "    print('거짓')"
   ]
  },
  {
   "cell_type": "code",
   "execution_count": 8,
   "id": "integral-shoot",
   "metadata": {},
   "outputs": [
    {
     "name": "stdout",
     "output_type": "stream",
     "text": [
      "참\n",
      "거짓\n"
     ]
    }
   ],
   "source": [
    "if 'Hello':    # 문자열\n",
    "    print('참')    # 문자열은 참\n",
    "else:\n",
    "    print('거짓')\n",
    "\n",
    "if '':    # 빈 문자열\n",
    "    print('참')\n",
    "else:\n",
    "    print('거짓')    # 빈 문자열은 거짓"
   ]
  },
  {
   "cell_type": "code",
   "execution_count": 9,
   "id": "inner-moral",
   "metadata": {},
   "outputs": [
    {
     "name": "stdout",
     "output_type": "stream",
     "text": [
      "참\n"
     ]
    }
   ],
   "source": [
    "x = 10\n",
    "y = 20\n",
    "if x == 10 and y == 20:\n",
    "    print(\"참\")\n",
    "else:\n",
    "    print(\"거짓\")"
   ]
  },
  {
   "cell_type": "code",
   "execution_count": null,
   "id": "satellite-rebate",
   "metadata": {},
   "outputs": [],
   "source": [
    "a = list(map(int, input().split()))\n",
    "ko, ma, so, si = a\n",
    "b = (ko + ma + so + si) // 4\n",
    "\n",
    "if ko >= 0 and ko <= 100 and ma >= 0 and ma <= 100 and so >= 0 and so <= 100 and si >= 0 and si <= 100:\n",
    "    if b >= 80:\n",
    "        print(\"합격\")\n",
    "    elif b < 80:\n",
    "        print(\"불합격\")\n",
    "else:\n",
    "    print(\"잘못된 점수\")"
   ]
  },
  {
   "cell_type": "code",
   "execution_count": 11,
   "id": "designing-transformation",
   "metadata": {},
   "outputs": [
    {
     "name": "stdout",
     "output_type": "stream",
     "text": [
      "12\n",
      "8350\n"
     ]
    }
   ],
   "source": [
    "age = int(input())\n",
    "balance = 9000\n",
    "\n",
    "if age >= 7 and age <= 12:\n",
    "    balance = balance - 650\n",
    "elif age >= 13 and age <= 18:\n",
    "    balance = balance - 1050\n",
    "else:\n",
    "    balance = balance - 1250\n",
    "print(balance)"
   ]
  }
 ],
 "metadata": {
  "kernelspec": {
   "display_name": "Python 3",
   "language": "python",
   "name": "python3"
  },
  "language_info": {
   "codemirror_mode": {
    "name": "ipython",
    "version": 3
   },
   "file_extension": ".py",
   "mimetype": "text/x-python",
   "name": "python",
   "nbconvert_exporter": "python",
   "pygments_lexer": "ipython3",
   "version": "3.7.9"
  }
 },
 "nbformat": 4,
 "nbformat_minor": 5
}
