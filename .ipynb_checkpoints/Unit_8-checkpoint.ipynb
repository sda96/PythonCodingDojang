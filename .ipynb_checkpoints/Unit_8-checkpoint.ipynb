{
 "cells": [
  {
   "cell_type": "markdown",
   "id": "swiss-timber",
   "metadata": {},
   "source": [
    "### Unit.8 불과 비교, 논리 연산자 알아보기"
   ]
  },
  {
   "cell_type": "markdown",
   "id": "wicked-julian",
   "metadata": {},
   "source": [
    "#### 8.1 불과 비교 연산자 사용하기"
   ]
  },
  {
   "cell_type": "code",
   "execution_count": 1,
   "id": "creative-capital",
   "metadata": {},
   "outputs": [
    {
     "name": "stdout",
     "output_type": "stream",
     "text": [
      "True\n",
      "False\n"
     ]
    }
   ],
   "source": [
    "# 논리 연산자\n",
    "print(True)\n",
    "print(False)"
   ]
  },
  {
   "cell_type": "code",
   "execution_count": 9,
   "id": "entitled-amino",
   "metadata": {},
   "outputs": [
    {
     "name": "stdout",
     "output_type": "stream",
     "text": [
      "True \n",
      "\n",
      "False \n",
      "\n",
      "True \n",
      "\n",
      "True \n",
      "\n",
      "False \n",
      "\n",
      "True \n",
      "\n",
      "False \n",
      "\n",
      "93883593892480 140519713440208\n"
     ]
    }
   ],
   "source": [
    "# 비교 연산자 \n",
    "print(3 > 1, \"\\n\")\n",
    "print(3 == 1, \"\\n\")\n",
    "print(3 != 1, \"\\n\")\n",
    "print(3 >= 3, \"\\n\")\n",
    "print(\"python\" == \"Python\", \"\\n\")\n",
    "print(1 == 1.0, \"\\n\") # 값을 비교\n",
    "print(1 is 1.0, \"\\n\") # 메모리 주소를 비교\n",
    "print(id(1), id(1.0))"
   ]
  },
  {
   "cell_type": "markdown",
   "id": "recreational-camcorder",
   "metadata": {},
   "source": [
    "#### 8.2 논리 연산자 사용하기"
   ]
  },
  {
   "cell_type": "code",
   "execution_count": 6,
   "id": "certified-sensitivity",
   "metadata": {},
   "outputs": [
    {
     "name": "stdout",
     "output_type": "stream",
     "text": [
      "True \n",
      "\n",
      "False \n",
      "\n",
      "True \n",
      "\n",
      "False \n",
      "\n",
      "False \n",
      "\n",
      "True \n",
      "\n"
     ]
    }
   ],
   "source": [
    "print(True and True, \"\\n\") # 모두 True면 True 출력\n",
    "print(True and False, \"\\n\") # 모두 True가 아니므로 False 출력\n",
    "print(True or False, \"\\n\") # 둘 중 하나라도 True면 True 출력\n",
    "print(False or False, \"\\n\") # 둘 중 하나라도 True가 없으면 False 출력\n",
    "print(not True, \"\\n\") # True의 논릿값을 뒤집습니다. 그래서 False 출력\n",
    "print(not False, \"\\n\") # False 논릿값을 뒤집습니다. 그래서 True 출력"
   ]
  },
  {
   "cell_type": "markdown",
   "id": "expected-reform",
   "metadata": {},
   "source": [
    "비교 연산자와 논리 연산자가 동시에 있는 경우 비교 연산자를 먼저 판단 한뒤 논리 연산자를 판단합니다."
   ]
  },
  {
   "cell_type": "code",
   "execution_count": 7,
   "id": "subtle-oasis",
   "metadata": {},
   "outputs": [
    {
     "name": "stdout",
     "output_type": "stream",
     "text": [
      "True\n"
     ]
    }
   ],
   "source": [
    "print(10 == 10 and 10 != 5) # True and True"
   ]
  },
  {
   "cell_type": "markdown",
   "id": "confused-fellow",
   "metadata": {},
   "source": [
    "not and or 순으로 연산"
   ]
  },
  {
   "cell_type": "markdown",
   "id": "earlier-football",
   "metadata": {},
   "source": [
    "**다른 자료형에서의 bool값**"
   ]
  },
  {
   "cell_type": "markdown",
   "id": "taken-macedonia",
   "metadata": {},
   "source": [
    "|자료형|표현|True / False|예시|\n",
    "|:-|:-|:-|:-|\n",
    "|시퀀스 자료형|빈 리스트|False|[]|\n",
    "|시퀀스 자료형|비지 않은 리스트|True|[아,1,무,거,#]|\n",
    "|숫자 자료형|0|False|0|\n",
    "|숫자 자료형|0을 제외한 수|True|123|\n",
    "|문자 자료형|빈 문자열|False|\"\",''|\n",
    "|문자 자료형|빈 문자열을 제외한 모든 문자열|True|\"아무\", '거나'|"
   ]
  },
  {
   "cell_type": "markdown",
   "id": "addressed-grammar",
   "metadata": {},
   "source": [
    "두 값 모두 True이지만 Python이 출력된 이유는 파이썬에서 논리 연산자는 마지막으로 단락 평가를 실시한 값을 그대로 반환하기 때문입니다."
   ]
  },
  {
   "cell_type": "code",
   "execution_count": 8,
   "id": "strong-principal",
   "metadata": {},
   "outputs": [
    {
     "data": {
      "text/plain": [
       "'Python'"
      ]
     },
     "execution_count": 8,
     "metadata": {},
     "output_type": "execute_result"
    }
   ],
   "source": [
    "True and 'Python'"
   ]
  },
  {
   "cell_type": "markdown",
   "id": "sufficient-customs",
   "metadata": {},
   "source": [
    "#### 8.3.1 연습 문제 : 합격 여부 출력하기"
   ]
  },
  {
   "cell_type": "code",
   "execution_count": 9,
   "id": "normal-hartford",
   "metadata": {},
   "outputs": [
    {
     "data": {
      "text/plain": [
       "False"
      ]
     },
     "execution_count": 9,
     "metadata": {},
     "output_type": "execute_result"
    }
   ],
   "source": [
    "korean = 92\n",
    "english = 47\n",
    "math = 86\n",
    "science = 81\n",
    "\n",
    "korean > 50 and english > 50 and math > 50 and science > 50"
   ]
  },
  {
   "cell_type": "markdown",
   "id": "verified-hartford",
   "metadata": {},
   "source": [
    "#### 8.3.2 문제"
   ]
  },
  {
   "cell_type": "code",
   "execution_count": 3,
   "id": "blind-blake",
   "metadata": {},
   "outputs": [
    {
     "name": "stdout",
     "output_type": "stream",
     "text": [
      "False\n"
     ]
    }
   ],
   "source": [
    "korean = 90\n",
    "english = 80\n",
    "math = 85\n",
    "science = 80\n",
    "\n",
    "print(korean >= 90 and english > 80 and math > 85 and science >= 80)"
   ]
  }
 ],
 "metadata": {
  "kernelspec": {
   "display_name": "Python 3",
   "language": "python",
   "name": "python3"
  },
  "language_info": {
   "codemirror_mode": {
    "name": "ipython",
    "version": 3
   },
   "file_extension": ".py",
   "mimetype": "text/x-python",
   "name": "python",
   "nbconvert_exporter": "python",
   "pygments_lexer": "ipython3",
   "version": "3.7.9"
  }
 },
 "nbformat": 4,
 "nbformat_minor": 5
}
