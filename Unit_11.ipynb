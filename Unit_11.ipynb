{
 "cells": [
  {
   "cell_type": "markdown",
   "id": "geological-library",
   "metadata": {},
   "source": [
    "### Unit.11 시퀀스 자료형 활용하기"
   ]
  },
  {
   "cell_type": "markdown",
   "id": "smart-peeing",
   "metadata": {},
   "source": [
    "#### 11.1.1 시퀀스 자료형의 공통 기능 사용하기"
   ]
  },
  {
   "cell_type": "markdown",
   "id": "brutal-commodity",
   "metadata": {},
   "source": [
    "시퀀스 자료형의 종류\n",
    "- list\n",
    "- tuple\n",
    "- range\n",
    "- str\n",
    "- bytes\n",
    "- bytearray"
   ]
  },
  {
   "cell_type": "markdown",
   "id": "worst-sixth",
   "metadata": {},
   "source": [
    "#### 11.1.2 시퀀스 자료형 내에서 특정 값 검색하기"
   ]
  },
  {
   "cell_type": "markdown",
   "id": "vital-myrtle",
   "metadata": {},
   "source": [
    "기존의 반복문, 순환문을 사용하여 값을 찾는 것보다 ```in```을 사용하는 것이 더 빠릅니다."
   ]
  },
  {
   "cell_type": "code",
   "execution_count": 7,
   "id": "vietnamese-oliver",
   "metadata": {
    "scrolled": true
   },
   "outputs": [
    {
     "name": "stdout",
     "output_type": "stream",
     "text": [
      "70.4 ns ± 0.34 ns per loop (mean ± std. dev. of 7 runs, 10000000 loops each)\n"
     ]
    }
   ],
   "source": [
    "a = [1, 2, 3, 4, 5, 6, 7, 8, 9]\n",
    "# a라는 리스트에 값 5가 존재하는가?\n",
    "%timeit 5 in a "
   ]
  },
  {
   "cell_type": "code",
   "execution_count": 8,
   "id": "asian-jacob",
   "metadata": {},
   "outputs": [
    {
     "name": "stdout",
     "output_type": "stream",
     "text": [
      "259 ns ± 4.42 ns per loop (mean ± std. dev. of 7 runs, 1000000 loops each)\n"
     ]
    }
   ],
   "source": [
    "a = [1, 2, 3, 4, 5, 6, 7, 8, 9]\n",
    "# a라는 리스트에 값 5가 존재하는가?\n",
    "\n",
    "def sol(s):\n",
    "    for i in a:\n",
    "        if i == s:\n",
    "            return True\n",
    "    return False\n",
    "            \n",
    "%timeit sol(5)"
   ]
  },
  {
   "cell_type": "code",
   "execution_count": 9,
   "id": "final-locator",
   "metadata": {},
   "outputs": [
    {
     "data": {
      "text/plain": [
       "True"
      ]
     },
     "execution_count": 9,
     "metadata": {},
     "output_type": "execute_result"
    }
   ],
   "source": [
    "a = [1, 2, 3, 4, 5, 6, 7, 8, 9]\n",
    "10 not in a"
   ]
  },
  {
   "cell_type": "markdown",
   "id": "golden-republic",
   "metadata": {},
   "source": [
    "#### 11.1.3 시퀀스 객체 연결 및 반복"
   ]
  },
  {
   "cell_type": "code",
   "execution_count": 10,
   "id": "compressed-forum",
   "metadata": {},
   "outputs": [
    {
     "data": {
      "text/plain": [
       "[1, 2, 3, 10, 5, 7]"
      ]
     },
     "execution_count": 10,
     "metadata": {},
     "output_type": "execute_result"
    }
   ],
   "source": [
    "a = [1,2,3]\n",
    "b = [10,5,7]\n",
    "a + b"
   ]
  },
  {
   "cell_type": "code",
   "execution_count": 11,
   "id": "decreased-section",
   "metadata": {},
   "outputs": [
    {
     "data": {
      "text/plain": [
       "[1, 2, 3, 1, 2, 3, 1, 2, 3]"
      ]
     },
     "execution_count": 11,
     "metadata": {},
     "output_type": "execute_result"
    }
   ],
   "source": [
    "a * 3"
   ]
  },
  {
   "cell_type": "markdown",
   "id": "spiritual-valuable",
   "metadata": {},
   "source": [
    "#### 11.1.4 시퀀스 객체 요소 개수 구하기"
   ]
  },
  {
   "cell_type": "code",
   "execution_count": 12,
   "id": "antique-klein",
   "metadata": {},
   "outputs": [
    {
     "data": {
      "text/plain": [
       "5"
      ]
     },
     "execution_count": 12,
     "metadata": {},
     "output_type": "execute_result"
    }
   ],
   "source": [
    "a = [5,3,2,1,5]\n",
    "len(a)"
   ]
  },
  {
   "cell_type": "markdown",
   "id": "apart-andrews",
   "metadata": {},
   "source": [
    "#### 11.2 인덱스 사용하기"
   ]
  },
  {
   "cell_type": "code",
   "execution_count": 14,
   "id": "romance-image",
   "metadata": {},
   "outputs": [
    {
     "data": {
      "text/plain": [
       "1"
      ]
     },
     "execution_count": 14,
     "metadata": {},
     "output_type": "execute_result"
    }
   ],
   "source": [
    "a = [1,2,3,4,5]\n",
    "a[0]"
   ]
  },
  {
   "cell_type": "code",
   "execution_count": 15,
   "id": "patient-malawi",
   "metadata": {},
   "outputs": [
    {
     "data": {
      "text/plain": [
       "5"
      ]
     },
     "execution_count": 15,
     "metadata": {},
     "output_type": "execute_result"
    }
   ],
   "source": [
    "a[-1] # 맨 뒤자리의 요소 출력"
   ]
  },
  {
   "cell_type": "code",
   "execution_count": 17,
   "id": "healthy-director",
   "metadata": {},
   "outputs": [
    {
     "data": {
      "text/plain": [
       "[10, 2, 3, 4, 5]"
      ]
     },
     "execution_count": 17,
     "metadata": {},
     "output_type": "execute_result"
    }
   ],
   "source": [
    "a = [1,2,3,4,5]\n",
    "a[0] = 10 # 해당 인덱스의 값 변경\n",
    "a"
   ]
  },
  {
   "cell_type": "code",
   "execution_count": 19,
   "id": "recognized-robert",
   "metadata": {},
   "outputs": [
    {
     "data": {
      "text/plain": [
       "[2, 3, 4, 5]"
      ]
     },
     "execution_count": 19,
     "metadata": {},
     "output_type": "execute_result"
    }
   ],
   "source": [
    "a = [1,2,3,4,5]\n",
    "del a[0] # 해당 인덱스의 값 삭제\n",
    "a"
   ]
  },
  {
   "cell_type": "markdown",
   "id": "micro-stocks",
   "metadata": {},
   "source": [
    "#### 11.3 슬라이스 사용하기"
   ]
  },
  {
   "cell_type": "code",
   "execution_count": 20,
   "id": "above-variable",
   "metadata": {},
   "outputs": [
    {
     "data": {
      "text/plain": [
       "[3, 4, 5]"
      ]
     },
     "execution_count": 20,
     "metadata": {},
     "output_type": "execute_result"
    }
   ],
   "source": [
    "a = [1,2,3,4,5,6,7,8,9]\n",
    "a[2:5] # 2번째에서 4번째 인덱스의 요소 리스트 생성"
   ]
  },
  {
   "cell_type": "code",
   "execution_count": 22,
   "id": "intensive-driver",
   "metadata": {},
   "outputs": [
    {
     "data": {
      "text/plain": [
       "[1, 2, 3, 4, 5]"
      ]
     },
     "execution_count": 22,
     "metadata": {},
     "output_type": "execute_result"
    }
   ],
   "source": [
    "a[:5] # 4번째 인덱스까지의 요소 리스트 생성"
   ]
  },
  {
   "cell_type": "code",
   "execution_count": 23,
   "id": "completed-interim",
   "metadata": {
    "scrolled": true
   },
   "outputs": [
    {
     "data": {
      "text/plain": [
       "[6, 7, 8, 9]"
      ]
     },
     "execution_count": 23,
     "metadata": {},
     "output_type": "execute_result"
    }
   ],
   "source": [
    "a[5:] # 5번째 인덱스 이후의 요소 리스트 생성"
   ]
  },
  {
   "cell_type": "code",
   "execution_count": 25,
   "id": "complicated-investment",
   "metadata": {},
   "outputs": [
    {
     "data": {
      "text/plain": [
       "[3, 5, 7, 9]"
      ]
     },
     "execution_count": 25,
     "metadata": {},
     "output_type": "execute_result"
    }
   ],
   "source": [
    "a[2:9:2] # 2번째에서 8번째 인덱스까지 2칸씩 띄운 요소 리스트 생성"
   ]
  },
  {
   "cell_type": "code",
   "execution_count": 27,
   "id": "precious-freeware",
   "metadata": {},
   "outputs": [
    {
     "data": {
      "text/plain": [
       "[1, 3, 5, 7, 9]"
      ]
     },
     "execution_count": 27,
     "metadata": {},
     "output_type": "execute_result"
    }
   ],
   "source": [
    "a[::2] # 2칸씩 띄운 요소 리스트 생성"
   ]
  },
  {
   "cell_type": "code",
   "execution_count": 33,
   "id": "complicated-venezuela",
   "metadata": {},
   "outputs": [
    {
     "name": "stdout",
     "output_type": "stream",
     "text": [
      "[1, 2, 3, 4, 5, 6, 7, 8, 9]\n",
      "False\n"
     ]
    }
   ],
   "source": [
    "print(a[::]) # 요소는 모두 동일하지만 새로운 메모리 주소를 가지는 객체의 리스트 생성\n",
    "b = a[::]\n",
    "print(a is b)"
   ]
  },
  {
   "cell_type": "code",
   "execution_count": 28,
   "id": "original-switzerland",
   "metadata": {
    "scrolled": true
   },
   "outputs": [
    {
     "data": {
      "text/plain": [
       "[9, 8, 7, 6, 5, 4, 3, 2, 1]"
      ]
     },
     "execution_count": 28,
     "metadata": {},
     "output_type": "execute_result"
    }
   ],
   "source": [
    "a[::-1] # 요소의 순서가 뒤 바뀜"
   ]
  },
  {
   "cell_type": "code",
   "execution_count": 35,
   "id": "painful-clark",
   "metadata": {},
   "outputs": [
    {
     "data": {
      "text/plain": [
       "['oven', 'bat', 'pony', 'total', 'leak', 'wreck', 'curl']"
      ]
     },
     "execution_count": 35,
     "metadata": {},
     "output_type": "execute_result"
    }
   ],
   "source": [
    "a = [\"oven\", \"bat\", \"pony\", \"total\", \"leak\", \"wreck\", \"curl\", \"crop\", \"space\", \"navy\", \"loss\", \"knee\"]\n",
    "a[:-5]"
   ]
  },
  {
   "cell_type": "code",
   "execution_count": 37,
   "id": "acceptable-station",
   "metadata": {},
   "outputs": [
    {
     "name": "stdout",
     "output_type": "stream",
     "text": [
      "python\n",
      "python\n"
     ]
    },
    {
     "data": {
      "text/plain": [
       "'yhnpto'"
      ]
     },
     "execution_count": 37,
     "metadata": {},
     "output_type": "execute_result"
    }
   ],
   "source": [
    "a = input()\n",
    "b = input()\n",
    "print(a[1::2] + b[0::2])"
   ]
  },
  {
   "cell_type": "code",
   "execution_count": 2,
   "id": "ideal-camera",
   "metadata": {},
   "outputs": [
    {
     "data": {
      "text/plain": [
       "range(2, 5)"
      ]
     },
     "execution_count": 2,
     "metadata": {},
     "output_type": "execute_result"
    }
   ],
   "source": [
    "range(0,10)[2:5]"
   ]
  }
 ],
 "metadata": {
  "kernelspec": {
   "display_name": "Python 3",
   "language": "python",
   "name": "python3"
  },
  "language_info": {
   "codemirror_mode": {
    "name": "ipython",
    "version": 3
   },
   "file_extension": ".py",
   "mimetype": "text/x-python",
   "name": "python",
   "nbconvert_exporter": "python",
   "pygments_lexer": "ipython3",
   "version": "3.7.9"
  }
 },
 "nbformat": 4,
 "nbformat_minor": 5
}
