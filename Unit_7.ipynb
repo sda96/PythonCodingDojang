{
 "cells": [
  {
   "cell_type": "markdown",
   "id": "sealed-buying",
   "metadata": {},
   "source": [
    "### Unit.7 출력 방법  알아보기"
   ]
  },
  {
   "cell_type": "markdown",
   "id": "demographic-elevation",
   "metadata": {},
   "source": [
    "#### 7.1 값을 여러개 출력하기"
   ]
  },
  {
   "cell_type": "code",
   "execution_count": 2,
   "id": "nasty-princess",
   "metadata": {},
   "outputs": [
    {
     "name": "stdout",
     "output_type": "stream",
     "text": [
      "1 2 3\n"
     ]
    }
   ],
   "source": [
    "# 변수나 값을 콤마로 구분하여 넣을 수 있습니다.\n",
    "print(1, 2, 3)"
   ]
  },
  {
   "cell_type": "code",
   "execution_count": 3,
   "id": "sealed-commander",
   "metadata": {},
   "outputs": [
    {
     "name": "stdout",
     "output_type": "stream",
     "text": [
      "Hello Python\n"
     ]
    }
   ],
   "source": [
    "print('Hello', 'Python')"
   ]
  },
  {
   "cell_type": "code",
   "execution_count": 11,
   "id": "occasional-richmond",
   "metadata": {},
   "outputs": [
    {
     "name": "stdout",
     "output_type": "stream",
     "text": [
      "1+2+3\n"
     ]
    }
   ],
   "source": [
    "# 사이사이에 문자 넣기\n",
    "print(1, 2, 3, sep=\"+\")"
   ]
  },
  {
   "cell_type": "markdown",
   "id": "congressional-turkey",
   "metadata": {},
   "source": [
    "#### 7.2.1 줄바꿈 활용하기"
   ]
  },
  {
   "cell_type": "markdown",
   "id": "danish-daisy",
   "metadata": {},
   "source": [
    "제어문자 : 이스케이프 시퀀스\n",
    "- \\t, \\n, \\\\"
   ]
  },
  {
   "cell_type": "code",
   "execution_count": 13,
   "id": "corrected-miami",
   "metadata": {
    "scrolled": true
   },
   "outputs": [
    {
     "name": "stdout",
     "output_type": "stream",
     "text": [
      "1\n",
      "2\n",
      "3\n"
     ]
    }
   ],
   "source": [
    "print(1, 2, 3, sep=\"\\n\")"
   ]
  },
  {
   "cell_type": "code",
   "execution_count": 14,
   "id": "lightweight-violation",
   "metadata": {},
   "outputs": [
    {
     "name": "stdout",
     "output_type": "stream",
     "text": [
      "1\t2\t3\n"
     ]
    }
   ],
   "source": [
    "print(1, 2, 3, sep=\"\\t\")"
   ]
  },
  {
   "cell_type": "code",
   "execution_count": 16,
   "id": "vertical-taxation",
   "metadata": {},
   "outputs": [
    {
     "name": "stdout",
     "output_type": "stream",
     "text": [
      "1\\2\\3\n"
     ]
    }
   ],
   "source": [
    "print(1, 2, 3, sep=\"\\\\\")"
   ]
  },
  {
   "cell_type": "markdown",
   "id": "abstract-material",
   "metadata": {},
   "source": [
    "#### 7.2.2 end 사용하기"
   ]
  },
  {
   "cell_type": "code",
   "execution_count": 17,
   "id": "classified-order",
   "metadata": {},
   "outputs": [
    {
     "name": "stdout",
     "output_type": "stream",
     "text": [
      "1 2 3\n"
     ]
    }
   ],
   "source": [
    "# end parameter를 사용하면 다음 번 출력이 바로 뒤에 오게됨\n",
    "print(1, end= \" \")\n",
    "print(2, end= \" \")\n",
    "print(3)"
   ]
  },
  {
   "cell_type": "markdown",
   "id": "ideal-stereo",
   "metadata": {},
   "source": [
    "#### 7.3.1 연습문제"
   ]
  },
  {
   "cell_type": "code",
   "execution_count": 19,
   "id": "round-shore",
   "metadata": {},
   "outputs": [
    {
     "name": "stdout",
     "output_type": "stream",
     "text": [
      "2000/10/27 11:43:59\n"
     ]
    }
   ],
   "source": [
    "year = 2000\n",
    "month = 10\n",
    "day = 27\n",
    "hour = 11\n",
    "minute = 43\n",
    "second = 59\n",
    "\n",
    "print(year, month, day, end= \" \", sep=\"/\")\n",
    "print(hour, minute, second, sep= \":\")"
   ]
  },
  {
   "cell_type": "markdown",
   "id": "essential-disney",
   "metadata": {},
   "source": [
    "#### 7.3.2 심화문제"
   ]
  },
  {
   "cell_type": "code",
   "execution_count": 20,
   "id": "material-contractor",
   "metadata": {},
   "outputs": [
    {
     "name": "stdout",
     "output_type": "stream",
     "text": [
      "1999 12 31 10 37 21\n",
      "1999-12-31T10:37:21\n"
     ]
    }
   ],
   "source": [
    "year, month, day, hour, minute, second = input().split()\n",
    "print(year, month, day, end=\"T\", sep=\"-\")\n",
    "print(hour, minute, second, sep=\":\")"
   ]
  }
 ],
 "metadata": {
  "kernelspec": {
   "display_name": "Python 3",
   "language": "python",
   "name": "python3"
  },
  "language_info": {
   "codemirror_mode": {
    "name": "ipython",
    "version": 3
   },
   "file_extension": ".py",
   "mimetype": "text/x-python",
   "name": "python",
   "nbconvert_exporter": "python",
   "pygments_lexer": "ipython3",
   "version": "3.7.9"
  }
 },
 "nbformat": 4,
 "nbformat_minor": 5
}
