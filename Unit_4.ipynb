{
 "cells": [
  {
   "cell_type": "markdown",
   "id": "documentary-killing",
   "metadata": {},
   "source": [
    "### Unit 4. 기본 문법 알아보기"
   ]
  },
  {
   "cell_type": "markdown",
   "id": "universal-rebecca",
   "metadata": {},
   "source": [
    "#### 4.1 세미콜론"
   ]
  },
  {
   "cell_type": "markdown",
   "id": "unlikely-uncle",
   "metadata": {},
   "source": [
    "많은 프로그래밍 언어들의 구문은 ;를 붙여서 끝내지만 파이썬은 붙이지 않아도 됩니다."
   ]
  },
  {
   "cell_type": "code",
   "execution_count": 2,
   "id": "comprehensive-appraisal",
   "metadata": {},
   "outputs": [
    {
     "name": "stdout",
     "output_type": "stream",
     "text": [
      "Hello\n"
     ]
    }
   ],
   "source": [
    "print(\"Hello\");"
   ]
  },
  {
   "cell_type": "code",
   "execution_count": 1,
   "id": "according-recovery",
   "metadata": {},
   "outputs": [
    {
     "name": "stdout",
     "output_type": "stream",
     "text": [
      "Hello\n"
     ]
    }
   ],
   "source": [
    "print(\"Hello\")"
   ]
  },
  {
   "cell_type": "markdown",
   "id": "presidential-broadway",
   "metadata": {},
   "source": [
    "하지만 붙이게 되면 아래와 같이 ;이전의 구문은 끝나고 다음 구문이 실행됩니다."
   ]
  },
  {
   "cell_type": "code",
   "execution_count": 1,
   "id": "level-macro",
   "metadata": {},
   "outputs": [
    {
     "name": "stdout",
     "output_type": "stream",
     "text": [
      "Hello\n",
      "world\n"
     ]
    }
   ],
   "source": [
    "print(\"Hello\"); print(\"world\")"
   ]
  },
  {
   "cell_type": "markdown",
   "id": "anonymous-fever",
   "metadata": {},
   "source": [
    "#### 4.2.1 한 줄 주석"
   ]
  },
  {
   "cell_type": "code",
   "execution_count": 4,
   "id": "eight-astrology",
   "metadata": {},
   "outputs": [
    {
     "name": "stdout",
     "output_type": "stream",
     "text": [
      "Flower\n"
     ]
    }
   ],
   "source": [
    "# Flower 출력\n",
    "print(\"Flower\") # 여기도 가능"
   ]
  },
  {
   "cell_type": "markdown",
   "id": "coated-nebraska",
   "metadata": {},
   "source": [
    "파이썬3 에서는 .py 스크립트 파일의 기본 인코딩은 UTF-8입니다. 스크립트 파일을 다른 인코딩으로 저장하면 실행했을 때 에러가 발생합니다.  \n",
    "에러를 방지하기 위해서 스크립트 파일을 UTF-8로 저장합니다"
   ]
  },
  {
   "cell_type": "markdown",
   "id": "honey-wellington",
   "metadata": {},
   "source": [
    "#### 4.2.2 블록 주석"
   ]
  },
  {
   "cell_type": "markdown",
   "id": "alert-inclusion",
   "metadata": {},
   "source": [
    "블록 주석은 각 줄마다 맨 앞에 #을 넣어 줍니다"
   ]
  },
  {
   "cell_type": "code",
   "execution_count": 5,
   "id": "little-eligibility",
   "metadata": {},
   "outputs": [],
   "source": [
    "#print(\"Hellow\")"
   ]
  },
  {
   "cell_type": "markdown",
   "id": "indirect-trunk",
   "metadata": {},
   "source": [
    "한 번에 여러 줄을 주석처리 하려면 주석 처리를 하고자 하는 줄을 모두 드래그를 한 뒤, ```ctrl + /```를 해주면 됩니다"
   ]
  },
  {
   "cell_type": "code",
   "execution_count": 2,
   "id": "hollow-tamil",
   "metadata": {},
   "outputs": [
    {
     "ename": "NameError",
     "evalue": "name 'ᄆᄑᄆᄋᄑ' is not defined",
     "output_type": "error",
     "traceback": [
      "\u001b[0;31m---------------------------------------------------------------------------\u001b[0m",
      "\u001b[0;31mNameError\u001b[0m                                 Traceback (most recent call last)",
      "\u001b[0;32m<ipython-input-2-2689c770d5b5>\u001b[0m in \u001b[0;36m<module>\u001b[0;34m\u001b[0m\n\u001b[0;32m----> 1\u001b[0;31m \u001b[0mㅁㅍㅁㅇㅍ\u001b[0m\u001b[0;34m\u001b[0m\u001b[0;34m\u001b[0m\u001b[0m\n\u001b[0m\u001b[1;32m      2\u001b[0m \u001b[0mㅁㅇㅍㅁㅇㅍ\u001b[0m\u001b[0;34m\u001b[0m\u001b[0;34m\u001b[0m\u001b[0m\n\u001b[1;32m      3\u001b[0m \u001b[0mㅁㅇㅍㅁㅍㅇ\u001b[0m\u001b[0;34m\u001b[0m\u001b[0;34m\u001b[0m\u001b[0m\n\u001b[1;32m      4\u001b[0m \u001b[0mㅁㅇㅍㅁ\u001b[0m\u001b[0;34m\u001b[0m\u001b[0;34m\u001b[0m\u001b[0m\n",
      "\u001b[0;31mNameError\u001b[0m: name 'ᄆᄑᄆᄋᄑ' is not defined"
     ]
    }
   ],
   "source": [
    "ㅁㅍㅁㅇㅍ\n",
    "ㅁㅇㅍㅁㅇㅍ\n",
    "ㅁㅇㅍㅁㅍㅇ\n",
    "ㅁㅇㅍㅁ"
   ]
  },
  {
   "cell_type": "code",
   "execution_count": null,
   "id": "polished-slide",
   "metadata": {},
   "outputs": [],
   "source": [
    "# ㅁㄻ\n",
    "# ㅁㅇㄻㄹㄷ\n",
    "# ㅁㄻㄷㄹ\n",
    "# ㅁㄻㄻㄷㄹ\n",
    "# ㅁㅁㅎ"
   ]
  },
  {
   "cell_type": "markdown",
   "id": "identical-throw",
   "metadata": {},
   "source": [
    "#### 4.2.3 여러 줄 주석"
   ]
  },
  {
   "cell_type": "code",
   "execution_count": 1,
   "id": "touched-chamber",
   "metadata": {},
   "outputs": [
    {
     "data": {
      "text/plain": [
       "'\\nㅉㄹㅈ마랃ㄻ아ㅡ \\n'"
      ]
     },
     "execution_count": 1,
     "metadata": {},
     "output_type": "execute_result"
    }
   ],
   "source": [
    "\"\"\"\n",
    "ㅉㄹㅈ마랃ㄻ아ㅡ \n",
    "\"\"\""
   ]
  },
  {
   "cell_type": "markdown",
   "id": "ranging-engine",
   "metadata": {},
   "source": [
    "#### 4.3 들여쓰기"
   ]
  },
  {
   "cell_type": "markdown",
   "id": "flexible-shark",
   "metadata": {},
   "source": [
    "- 들여쓰기는 코드를 읽기 쉽도록 일정한 간격을 띄워서 작성하는 법\n",
    "- 파이썬에서는 들여쓰기 자체가 문법입니다\n",
    "- if문의 경우 항상 들여쓰기를 써야 하며 쓰지 않으면 문법에러로 코드가 실행되자 않음\n",
    "- 파이썬 코딩 스타일 가이드(PEP8)에서는 들여쓰기를 공백 4칸으로 규정하였기에 ide에서 탭을 공백4개로 설정해서 사용하는 것이 좋습니다."
   ]
  },
  {
   "cell_type": "code",
   "execution_count": 8,
   "id": "sticky-cincinnati",
   "metadata": {},
   "outputs": [
    {
     "name": "stdout",
     "output_type": "stream",
     "text": [
      "10입니다.\n"
     ]
    }
   ],
   "source": [
    "a = 10\n",
    "\n",
    "if a == 10:\n",
    "    print('10입니다.')\n",
    "     "
   ]
  },
  {
   "cell_type": "markdown",
   "id": "ranging-stake",
   "metadata": {},
   "source": [
    "#### 4.4 코드 블록"
   ]
  },
  {
   "cell_type": "markdown",
   "id": "timely-december",
   "metadata": {},
   "source": [
    "- 코드블록은 특정한 동작을 위해서 코드가 모여 있는 상태를 뜻하며 파이썬은 들여쓰기를 기준으로 코드 블록을 구성합니다."
   ]
  },
  {
   "cell_type": "code",
   "execution_count": 9,
   "id": "reverse-failure",
   "metadata": {},
   "outputs": [
    {
     "name": "stdout",
     "output_type": "stream",
     "text": [
      "10\n",
      "입니다.\n"
     ]
    }
   ],
   "source": [
    "if a == 10:\n",
    "    print(\"10\")\n",
    "    print(\"입니다.\")"
   ]
  }
 ],
 "metadata": {
  "kernelspec": {
   "display_name": "Python 3",
   "language": "python",
   "name": "python3"
  },
  "language_info": {
   "codemirror_mode": {
    "name": "ipython",
    "version": 3
   },
   "file_extension": ".py",
   "mimetype": "text/x-python",
   "name": "python",
   "nbconvert_exporter": "python",
   "pygments_lexer": "ipython3",
   "version": "3.7.9"
  }
 },
 "nbformat": 4,
 "nbformat_minor": 5
}
