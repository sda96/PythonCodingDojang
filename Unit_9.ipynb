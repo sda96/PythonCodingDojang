{
 "cells": [
  {
   "cell_type": "markdown",
   "id": "formal-seminar",
   "metadata": {},
   "source": [
    "### Unit.9 문자열 사용하기"
   ]
  },
  {
   "cell_type": "markdown",
   "id": "literary-newman",
   "metadata": {},
   "source": [
    "#### 9.1 문자열 사용하기"
   ]
  },
  {
   "cell_type": "code",
   "execution_count": 2,
   "id": "arctic-resource",
   "metadata": {},
   "outputs": [
    {
     "data": {
      "text/plain": [
       "'Hello, world!'"
      ]
     },
     "execution_count": 2,
     "metadata": {},
     "output_type": "execute_result"
    }
   ],
   "source": [
    "hello = \"Hello, world!\"\n",
    "hello"
   ]
  },
  {
   "cell_type": "code",
   "execution_count": 4,
   "id": "worst-boutique",
   "metadata": {},
   "outputs": [
    {
     "data": {
      "text/plain": [
       "'ganandara\\nmabasa'"
      ]
     },
     "execution_count": 4,
     "metadata": {},
     "output_type": "execute_result"
    }
   ],
   "source": [
    "hello = \"\"\"ganandara\n",
    "mabasa\"\"\" \n",
    "hello"
   ]
  },
  {
   "cell_type": "code",
   "execution_count": 6,
   "id": "australian-determination",
   "metadata": {},
   "outputs": [
    {
     "data": {
      "text/plain": [
       "'안에서 쌍따옴표 \"를 쓸려면 밖에서 따옴표를 쓴다'"
      ]
     },
     "execution_count": 6,
     "metadata": {},
     "output_type": "execute_result"
    }
   ],
   "source": [
    "ex = '안에서 쌍따옴표 \"를 쓸려면 밖에서 따옴표를 쓴다'\n",
    "ex"
   ]
  },
  {
   "cell_type": "code",
   "execution_count": 7,
   "id": "anonymous-construction",
   "metadata": {},
   "outputs": [
    {
     "data": {
      "text/plain": [
       "\"안에서 따옴표를 쓸려면 '로 가능\""
      ]
     },
     "execution_count": 7,
     "metadata": {},
     "output_type": "execute_result"
    }
   ],
   "source": [
    "ex = '안에서 따옴표를 쓸려면 \\'로 가능'\n",
    "ex"
   ]
  },
  {
   "cell_type": "markdown",
   "id": "unlimited-checklist",
   "metadata": {},
   "source": [
    "#### 9.3 연습 문제 : 여러 줄로 된 문자열 사용하기"
   ]
  },
  {
   "cell_type": "code",
   "execution_count": 12,
   "id": "existing-processor",
   "metadata": {},
   "outputs": [
    {
     "name": "stdout",
     "output_type": "stream",
     "text": [
      "Python is a programming language that lets you work quickly\n",
      "and\n",
      "integrate systems more effectively\n"
     ]
    }
   ],
   "source": [
    "s = \"\"\"Python is a programming language that lets you work quickly\n",
    "and\n",
    "integrate systems more effectively\"\"\"\n",
    "print(s)"
   ]
  },
  {
   "cell_type": "markdown",
   "id": "psychological-rover",
   "metadata": {},
   "source": [
    "#### 9.4 연습 문제 : 여러 줄로 된 문자열 사용하기"
   ]
  },
  {
   "cell_type": "code",
   "execution_count": 1,
   "id": "authentic-italy",
   "metadata": {},
   "outputs": [
    {
     "name": "stdout",
     "output_type": "stream",
     "text": [
      "'Python' is a \"programming language\"\n",
      "that lets you work quickly\n",
      "and\n",
      "integrate systems more effectively.\n"
     ]
    }
   ],
   "source": [
    "s = \"\"\"'Python' is a \"programming language\"\n",
    "that lets you work quickly\n",
    "and\n",
    "integrate systems more effectively.\"\"\"\n",
    "print(s)"
   ]
  }
 ],
 "metadata": {
  "kernelspec": {
   "display_name": "Python 3",
   "language": "python",
   "name": "python3"
  },
  "language_info": {
   "codemirror_mode": {
    "name": "ipython",
    "version": 3
   },
   "file_extension": ".py",
   "mimetype": "text/x-python",
   "name": "python",
   "nbconvert_exporter": "python",
   "pygments_lexer": "ipython3",
   "version": "3.7.9"
  }
 },
 "nbformat": 4,
 "nbformat_minor": 5
}
