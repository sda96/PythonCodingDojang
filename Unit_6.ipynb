{
 "cells": [
  {
   "cell_type": "markdown",
   "id": "national-spectacular",
   "metadata": {},
   "source": [
    "### Unit 6. 변수와 입력 사용하기"
   ]
  },
  {
   "cell_type": "markdown",
   "id": "conventional-hazard",
   "metadata": {},
   "source": [
    "#### 6.1 변수 만들기"
   ]
  },
  {
   "cell_type": "code",
   "execution_count": 3,
   "id": "respective-participant",
   "metadata": {},
   "outputs": [
    {
     "data": {
      "text/plain": [
       "10"
      ]
     },
     "execution_count": 3,
     "metadata": {},
     "output_type": "execute_result"
    }
   ],
   "source": [
    "x = 10\n",
    "x"
   ]
  },
  {
   "cell_type": "markdown",
   "id": "failing-language",
   "metadata": {},
   "source": [
    "10이라는 값을 메모리 공간(주소)에 할당시켜 해당 메모리 주소는 변수가 되며 변수명은 x 라고 붙혔습니다."
   ]
  },
  {
   "cell_type": "code",
   "execution_count": 4,
   "id": "designed-collection",
   "metadata": {},
   "outputs": [
    {
     "name": "stdout",
     "output_type": "stream",
     "text": [
      "10\n",
      "20\n",
      "30\n"
     ]
    }
   ],
   "source": [
    "# 변수 여러개 생성하기\n",
    "x, y, z = 10, 20, 30\n",
    "print(x)\n",
    "print(y)\n",
    "print(z)"
   ]
  },
  {
   "cell_type": "code",
   "execution_count": 5,
   "id": "basic-quarter",
   "metadata": {},
   "outputs": [
    {
     "name": "stdout",
     "output_type": "stream",
     "text": [
      "10\n",
      "10\n",
      "10\n"
     ]
    }
   ],
   "source": [
    "x = y = z = 10\n",
    "print(x)\n",
    "print(y)\n",
    "print(z)"
   ]
  },
  {
   "cell_type": "code",
   "execution_count": 6,
   "id": "working-desire",
   "metadata": {},
   "outputs": [
    {
     "ename": "NameError",
     "evalue": "name 'x' is not defined",
     "output_type": "error",
     "traceback": [
      "\u001b[0;31m---------------------------------------------------------------------------\u001b[0m",
      "\u001b[0;31mNameError\u001b[0m                                 Traceback (most recent call last)",
      "\u001b[0;32m<ipython-input-6-8c23cd95a3fd>\u001b[0m in \u001b[0;36m<module>\u001b[0;34m\u001b[0m\n\u001b[1;32m      1\u001b[0m \u001b[0;32mdel\u001b[0m \u001b[0mx\u001b[0m\u001b[0;34m\u001b[0m\u001b[0;34m\u001b[0m\u001b[0m\n\u001b[0;32m----> 2\u001b[0;31m \u001b[0mprint\u001b[0m\u001b[0;34m(\u001b[0m\u001b[0mx\u001b[0m\u001b[0;34m)\u001b[0m\u001b[0;34m\u001b[0m\u001b[0;34m\u001b[0m\u001b[0m\n\u001b[0m",
      "\u001b[0;31mNameError\u001b[0m: name 'x' is not defined"
     ]
    }
   ],
   "source": [
    "# 변수 삭제하기\n",
    "del x\n",
    "print(x)"
   ]
  },
  {
   "cell_type": "code",
   "execution_count": 8,
   "id": "fresh-taylor",
   "metadata": {},
   "outputs": [
    {
     "name": "stdout",
     "output_type": "stream",
     "text": [
      "None\n"
     ]
    }
   ],
   "source": [
    "# 빈 변수 만들기\n",
    "x = None\n",
    "print(x)"
   ]
  },
  {
   "cell_type": "markdown",
   "id": "adopted-genius",
   "metadata": {},
   "source": [
    "#### 6.2.1 변수로 계산하기"
   ]
  },
  {
   "cell_type": "code",
   "execution_count": 10,
   "id": "devoted-million",
   "metadata": {},
   "outputs": [
    {
     "data": {
      "text/plain": [
       "30"
      ]
     },
     "execution_count": 10,
     "metadata": {},
     "output_type": "execute_result"
    }
   ],
   "source": [
    "a = 10\n",
    "b = 20\n",
    "c = a + b\n",
    "c"
   ]
  },
  {
   "cell_type": "markdown",
   "id": "peripheral-choice",
   "metadata": {},
   "source": [
    "파이쏘닉 코드중 하나입니다."
   ]
  },
  {
   "cell_type": "code",
   "execution_count": 1,
   "id": "defined-gathering",
   "metadata": {},
   "outputs": [
    {
     "name": "stdout",
     "output_type": "stream",
     "text": [
      "20 10\n"
     ]
    }
   ],
   "source": [
    "x, y = 10, 20\n",
    "x, y = y, x\n",
    "print(x, y)"
   ]
  },
  {
   "cell_type": "markdown",
   "id": "alive-corpus",
   "metadata": {},
   "source": [
    "#### 6.2.2 산술 연산 후 할당 연산자 사용하기"
   ]
  },
  {
   "cell_type": "markdown",
   "id": "temporal-member",
   "metadata": {},
   "source": [
    "계산결과를 다시 변수에 할당시켜야 값을 출력할 수 있습니다."
   ]
  },
  {
   "cell_type": "code",
   "execution_count": 11,
   "id": "outstanding-tractor",
   "metadata": {},
   "outputs": [
    {
     "data": {
      "text/plain": [
       "30"
      ]
     },
     "execution_count": 11,
     "metadata": {},
     "output_type": "execute_result"
    }
   ],
   "source": [
    "a = 10\n",
    "a = a + 20\n",
    "a"
   ]
  },
  {
   "cell_type": "code",
   "execution_count": 13,
   "id": "imposed-disney",
   "metadata": {},
   "outputs": [
    {
     "data": {
      "text/plain": [
       "50"
      ]
     },
     "execution_count": 13,
     "metadata": {},
     "output_type": "execute_result"
    }
   ],
   "source": [
    "a = 10\n",
    "a += 40\n",
    "a"
   ]
  },
  {
   "cell_type": "code",
   "execution_count": 16,
   "id": "demanding-deposit",
   "metadata": {},
   "outputs": [
    {
     "ename": "NameError",
     "evalue": "name 'd' is not defined",
     "output_type": "error",
     "traceback": [
      "\u001b[0;31m---------------------------------------------------------------------------\u001b[0m",
      "\u001b[0;31mNameError\u001b[0m                                 Traceback (most recent call last)",
      "\u001b[0;32m<ipython-input-16-ad9e4f5f5ea5>\u001b[0m in \u001b[0;36m<module>\u001b[0;34m\u001b[0m\n\u001b[1;32m      1\u001b[0m \u001b[0;31m# 값이 없는 변수는 추가할당이 안됩니다.\u001b[0m\u001b[0;34m\u001b[0m\u001b[0;34m\u001b[0m\u001b[0;34m\u001b[0m\u001b[0m\n\u001b[0;32m----> 2\u001b[0;31m \u001b[0md\u001b[0m \u001b[0;34m+=\u001b[0m \u001b[0;36m5\u001b[0m\u001b[0;34m\u001b[0m\u001b[0;34m\u001b[0m\u001b[0m\n\u001b[0m",
      "\u001b[0;31mNameError\u001b[0m: name 'd' is not defined"
     ]
    }
   ],
   "source": [
    "# 값이 없는 변수는 추가할당이 안됩니다.\n",
    "d += 5"
   ]
  },
  {
   "cell_type": "code",
   "execution_count": 18,
   "id": "introductory-slave",
   "metadata": {},
   "outputs": [
    {
     "data": {
      "text/plain": [
       "(31, -31)"
      ]
     },
     "execution_count": 18,
     "metadata": {},
     "output_type": "execute_result"
    }
   ],
   "source": [
    "+a, -a"
   ]
  },
  {
   "cell_type": "markdown",
   "id": "crazy-default",
   "metadata": {},
   "source": [
    "#### 6.3 입력 값을 변수에 저장하기"
   ]
  },
  {
   "cell_type": "code",
   "execution_count": 21,
   "id": "perfect-cherry",
   "metadata": {},
   "outputs": [
    {
     "name": "stdout",
     "output_type": "stream",
     "text": [
      "문자열을 입력하세요 : ㅇㅎㅁㅎㅁㅇ\n"
     ]
    },
    {
     "data": {
      "text/plain": [
       "'ㅇㅎㅁㅎㅁㅇ'"
      ]
     },
     "execution_count": 21,
     "metadata": {},
     "output_type": "execute_result"
    }
   ],
   "source": [
    "# input 함수를 사용하여 입력값을 받을 수 있습니다.\n",
    "b = input(\"문자열을 입력하세요 : \")\n",
    "b"
   ]
  },
  {
   "cell_type": "markdown",
   "id": "wound-adult",
   "metadata": {},
   "source": [
    "#### 6.4.1 입력 값을 변수 두 개에 저장하기"
   ]
  },
  {
   "cell_type": "markdown",
   "id": "thermal-escape",
   "metadata": {},
   "source": [
    "``input``함수로 받은 입력값은 문자형 데이터이므로 문자열 함수가 사용가능합니다."
   ]
  },
  {
   "cell_type": "code",
   "execution_count": 22,
   "id": "senior-modem",
   "metadata": {},
   "outputs": [
    {
     "name": "stdout",
     "output_type": "stream",
     "text": [
      "문자열 2개 띄어쓰기 한번만 : f a\n",
      "f\n",
      "a\n"
     ]
    }
   ],
   "source": [
    "a, b = input(\"문자열 2개 띄어쓰기 한번만 : \").split()\n",
    "print(a)\n",
    "print(b)"
   ]
  },
  {
   "cell_type": "markdown",
   "id": "popular-deficit",
   "metadata": {},
   "source": [
    "#### 6.4.2 입력 값을 변수 두 개에 함수 적용후 저장"
   ]
  },
  {
   "cell_type": "code",
   "execution_count": 23,
   "id": "electoral-neighbor",
   "metadata": {},
   "outputs": [
    {
     "name": "stdout",
     "output_type": "stream",
     "text": [
      "문자열 2개 띄어쓰기 한번만 : 3 5\n",
      "8\n",
      "10\n"
     ]
    }
   ],
   "source": [
    "a, b = map(lambda x: int(x)+ 5,input(\"문자열 2개 띄어쓰기 한번만 : \").split())\n",
    "print(a)\n",
    "print(b)"
   ]
  },
  {
   "cell_type": "markdown",
   "id": "popular-massachusetts",
   "metadata": {},
   "source": [
    "#### 6.5.1 심사문제 : 변수 만들기 문제"
   ]
  },
  {
   "cell_type": "code",
   "execution_count": 2,
   "id": "certified-rider",
   "metadata": {},
   "outputs": [
    {
     "name": "stdout",
     "output_type": "stream",
     "text": [
      "50\n",
      "100\n",
      "None\n"
     ]
    }
   ],
   "source": [
    "a = 50\n",
    "b = 100\n",
    "c = None\n",
    "print(a)\n",
    "print(b)\n",
    "print(c)"
   ]
  },
  {
   "cell_type": "markdown",
   "id": "clinical-airline",
   "metadata": {},
   "source": [
    "#### 6.5.2 심사문제 : 평균 구하기"
   ]
  },
  {
   "cell_type": "code",
   "execution_count": 2,
   "id": "packed-tennis",
   "metadata": {},
   "outputs": [
    {
     "name": "stdout",
     "output_type": "stream",
     "text": [
      "1 2 3 4\n"
     ]
    },
    {
     "data": {
      "text/plain": [
       "2"
      ]
     },
     "execution_count": 2,
     "metadata": {},
     "output_type": "execute_result"
    }
   ],
   "source": [
    "a, b, c, d = map(int, input().split())\n",
    "(a + b + c + d) // 4"
   ]
  }
 ],
 "metadata": {
  "kernelspec": {
   "display_name": "Python 3",
   "language": "python",
   "name": "python3"
  },
  "language_info": {
   "codemirror_mode": {
    "name": "ipython",
    "version": 3
   },
   "file_extension": ".py",
   "mimetype": "text/x-python",
   "name": "python",
   "nbconvert_exporter": "python",
   "pygments_lexer": "ipython3",
   "version": "3.7.9"
  }
 },
 "nbformat": 4,
 "nbformat_minor": 5
}
