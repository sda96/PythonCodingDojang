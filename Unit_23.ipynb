{
 "cells": [
  {
   "cell_type": "markdown",
   "id": "coastal-gates",
   "metadata": {},
   "source": [
    "### Unit. 23 2차원 리스트 사용하기"
   ]
  },
  {
   "cell_type": "code",
   "execution_count": 4,
   "id": "geological-chase",
   "metadata": {},
   "outputs": [
    {
     "name": "stdout",
     "output_type": "stream",
     "text": [
      "3 3\n"
     ]
    }
   ],
   "source": [
    "col, row = map(int,input().split())"
   ]
  },
  {
   "cell_type": "code",
   "execution_count": 13,
   "id": "compliant-mistress",
   "metadata": {},
   "outputs": [
    {
     "name": "stdout",
     "output_type": "stream",
     "text": [
      "...\n",
      "***\n",
      "...\n"
     ]
    }
   ],
   "source": [
    "inputs = []\n",
    "for i in range(row):\n",
    "    inputs += [input()]"
   ]
  },
  {
   "cell_type": "code",
   "execution_count": 15,
   "id": "coral-general",
   "metadata": {},
   "outputs": [
    {
     "data": {
      "text/plain": [
       "['...', '***', '...']"
      ]
     },
     "execution_count": 15,
     "metadata": {},
     "output_type": "execute_result"
    }
   ],
   "source": [
    "for i in range(row):\n",
    "    for j in range(col):\n",
    "        if inputs[i][j] == \".\":\n",
    "            \n",
    "        "
   ]
  },
  {
   "cell_type": "markdown",
   "id": "timely-chart",
   "metadata": {},
   "source": [
    "메모리 주소값만 복사하면 얕은거고 값자체를 다 복사하면 깊은겁니다"
   ]
  },
  {
   "cell_type": "code",
   "execution_count": 1,
   "id": "surprised-meeting",
   "metadata": {},
   "outputs": [
    {
     "name": "stdout",
     "output_type": "stream",
     "text": [
      "3 3\n",
      ".**\n",
      "*..\n",
      ".*.\n"
     ]
    }
   ],
   "source": [
    "col, row = map(int,input().split())\n",
    "\n",
    "matrix = []\n",
    "for i in range(row):\n",
    "    matrix.append(list(input()))"
   ]
  },
  {
   "cell_type": "code",
   "execution_count": 3,
   "id": "confused-montgomery",
   "metadata": {},
   "outputs": [
    {
     "data": {
      "text/plain": [
       "'.'"
      ]
     },
     "execution_count": 3,
     "metadata": {},
     "output_type": "execute_result"
    }
   ],
   "source": [
    "dx = [1,1,1]\n",
    "dy = [0,1,-1]\n",
    "\n",
    "\n",
    "for i in range(row):\n",
    "    for j in range(col):\n",
    "        number = 0\n",
    "        if matrix[i][j] == \"*\":\n",
    "            pass\n",
    "        else:\n",
    "            if matrix[i+1][j] == \"*\" or matrix[i-1][j]:\n",
    "                number += 1\n",
    "            elif matrix[]\n",
    "            "
   ]
  },
  {
   "cell_type": "code",
   "execution_count": 10,
   "id": "alert-subscription",
   "metadata": {},
   "outputs": [],
   "source": [
    "class example():\n",
    "    \n",
    "    def __init__(self,x,y):\n",
    "        self.x = x\n",
    "        self.y = y\n",
    "    \n",
    "    def exa():\n",
    "        print(self.x, self.y)"
   ]
  },
  {
   "cell_type": "code",
   "execution_count": 14,
   "id": "southwest-russian",
   "metadata": {},
   "outputs": [
    {
     "data": {
      "text/plain": [
       "(139995810583056, 139995810585168)"
      ]
     },
     "execution_count": 14,
     "metadata": {},
     "output_type": "execute_result"
    }
   ],
   "source": [
    "a = example(1,2)\n",
    "id(a), id(example(1,2))"
   ]
  }
 ],
 "metadata": {
  "kernelspec": {
   "display_name": "Python 3",
   "language": "python",
   "name": "python3"
  },
  "language_info": {
   "codemirror_mode": {
    "name": "ipython",
    "version": 3
   },
   "file_extension": ".py",
   "mimetype": "text/x-python",
   "name": "python",
   "nbconvert_exporter": "python",
   "pygments_lexer": "ipython3",
   "version": "3.7.9"
  }
 },
 "nbformat": 4,
 "nbformat_minor": 5
}
