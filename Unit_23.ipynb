{
 "cells": [
  {
   "cell_type": "markdown",
   "id": "conservative-budapest",
   "metadata": {},
   "source": [
    "### Unit. 23 2차원 리스트 사용하기"
   ]
  },
  {
   "cell_type": "code",
   "execution_count": 4,
   "id": "breathing-complement",
   "metadata": {},
   "outputs": [
    {
     "name": "stdout",
     "output_type": "stream",
     "text": [
      "3 3\n"
     ]
    }
   ],
   "source": [
    "col, row = map(int,input().split())"
   ]
  },
  {
   "cell_type": "code",
   "execution_count": 13,
   "id": "rental-anime",
   "metadata": {},
   "outputs": [
    {
     "name": "stdout",
     "output_type": "stream",
     "text": [
      "...\n",
      "***\n",
      "...\n"
     ]
    }
   ],
   "source": [
    "inputs = []\n",
    "for i in range(row):\n",
    "    inputs += [input()]"
   ]
  },
  {
   "cell_type": "code",
   "execution_count": 15,
   "id": "finite-talent",
   "metadata": {},
   "outputs": [
    {
     "data": {
      "text/plain": [
       "['...', '***', '...']"
      ]
     },
     "execution_count": 15,
     "metadata": {},
     "output_type": "execute_result"
    }
   ],
   "source": [
    "for i in range(row):\n",
    "    for j in range(col):\n",
    "        if inputs[i][j] == \".\":\n",
    "            \n",
    "        "
   ]
  },
  {
   "cell_type": "markdown",
   "id": "adult-filling",
   "metadata": {},
   "source": [
    "메모리 주소값만 복사하면 얕은거고 값자체를 다 복사하면 깊은겁니다"
   ]
  },
  {
   "cell_type": "code",
   "execution_count": 1,
   "id": "institutional-characteristic",
   "metadata": {},
   "outputs": [
    {
     "name": "stdout",
     "output_type": "stream",
     "text": [
      "3 3\n",
      ".**\n",
      "*..\n",
      ".*.\n"
     ]
    }
   ],
   "source": [
    "col, row = map(int,input().split())\n",
    "\n",
    "matrix = []\n",
    "for i in range(row):\n",
    "    matrix.append(list(input()))"
   ]
  },
  {
   "cell_type": "code",
   "execution_count": 3,
   "id": "seven-consent",
   "metadata": {},
   "outputs": [
    {
     "data": {
      "text/plain": [
       "'.'"
      ]
     },
     "execution_count": 3,
     "metadata": {},
     "output_type": "execute_result"
    }
   ],
   "source": [
    "dx = [1,1,1]\n",
    "dy = [0,1,-1]\n",
    "\n",
    "\n",
    "for i in range(row):\n",
    "    for j in range(col):\n",
    "        number = 0\n",
    "        if matrix[i][j] == \"*\":\n",
    "            pass\n",
    "        else:\n",
    "            if matrix[i+1][j] == \"*\" or matrix[i-1][j]:\n",
    "                number += 1\n",
    "            elif matrix[]\n",
    "            "
   ]
  },
  {
   "cell_type": "code",
   "execution_count": 10,
   "id": "raising-cancer",
   "metadata": {},
   "outputs": [],
   "source": [
    "class example():\n",
    "    \n",
    "    def __init__(self,x,y):\n",
    "        self.x = x\n",
    "        self.y = y\n",
    "    \n",
    "    def exa():\n",
    "        print(self.x, self.y)"
   ]
  },
  {
   "cell_type": "code",
   "execution_count": 14,
   "id": "consecutive-association",
   "metadata": {
    "scrolled": true
   },
   "outputs": [
    {
     "data": {
      "text/plain": [
       "(139995810583056, 139995810585168)"
      ]
     },
     "execution_count": 14,
     "metadata": {},
     "output_type": "execute_result"
    }
   ],
   "source": [
    "a = example(1,2)\n",
    "id(a), id(example(1,2))"
   ]
  },
  {
   "cell_type": "code",
   "execution_count": 124,
   "id": "based-clear",
   "metadata": {},
   "outputs": [
    {
     "name": "stdout",
     "output_type": "stream",
     "text": [
      "3 3\n",
      ".**\n",
      "*..\n",
      ".*.\n"
     ]
    }
   ],
   "source": [
    "from copy import deepcopy\n",
    "\n",
    "col, row = map(int, input().split())\n",
    "\n",
    "matrix = []\n",
    "for i in range(row):\n",
    "    matrix.append(list(input()))"
   ]
  },
  {
   "cell_type": "code",
   "execution_count": 168,
   "id": "national-crowd",
   "metadata": {},
   "outputs": [
    {
     "name": "stdout",
     "output_type": "stream",
     "text": [
      "1\n",
      "1\n",
      "1\n",
      "1\n",
      "1\n",
      "2\n",
      "3\n",
      "4\n"
     ]
    },
    {
     "data": {
      "text/plain": [
       "4"
      ]
     },
     "execution_count": 168,
     "metadata": {},
     "output_type": "execute_result"
    }
   ],
   "source": [
    "copy_matrix = deepcopy(matrix)\n",
    "\n",
    "\n",
    "def find_mine(x,y):\n",
    "    if copy_matrix[x][y] == \"*\":\n",
    "        return True\n",
    "    else:\n",
    "        return False\n",
    "\n",
    "\n",
    "def search(x, y):\n",
    "    mine_num = 0\n",
    "    try:\n",
    "        if copy_matrix[x][y] == \".\":\n",
    "            mine_num += find_mine(x+1,y)\n",
    "            print(mine_num)\n",
    "            mine_num += find_mine(x+1, y-1)\n",
    "            print(mine_num)\n",
    "            mine_num += find_mine(x+1, y+1)\n",
    "            print(mine_num)\n",
    "            mine_num += find_mine(x-1, y)\n",
    "            print(mine_num)\n",
    "            mine_num += find_mine(x-1, y-1)\n",
    "            print(mine_num)\n",
    "            mine_num += find_mine(x-1, y+1)\n",
    "            print(mine_num)\n",
    "            mine_num += find_mine(x, y+1)\n",
    "            print(mine_num)\n",
    "            mine_num += find_mine(x, y-1)\n",
    "            print(mine_num)\n",
    "    except:\n",
    "        pass\n",
    "    return mine_num\n",
    "search(0,0)"
   ]
  },
  {
   "cell_type": "code",
   "execution_count": 159,
   "id": "extensive-skiing",
   "metadata": {},
   "outputs": [
    {
     "data": {
      "text/plain": [
       "[['.', '*', '*'], ['*', '.', '.'], ['.', '*', '.']]"
      ]
     },
     "execution_count": 159,
     "metadata": {},
     "output_type": "execute_result"
    }
   ],
   "source": [
    "matrix"
   ]
  },
  {
   "cell_type": "code",
   "execution_count": 167,
   "id": "quality-eagle",
   "metadata": {},
   "outputs": [
    {
     "data": {
      "text/plain": [
       "[['.', '*', '*'], ['*', '.', '.'], ['.', '*', '.']]"
      ]
     },
     "execution_count": 167,
     "metadata": {},
     "output_type": "execute_result"
    }
   ],
   "source": [
    "copy_matrix"
   ]
  }
 ],
 "metadata": {
  "kernelspec": {
   "display_name": "Python 3",
   "language": "python",
   "name": "python3"
  },
  "language_info": {
   "codemirror_mode": {
    "name": "ipython",
    "version": 3
   },
   "file_extension": ".py",
   "mimetype": "text/x-python",
   "name": "python",
   "nbconvert_exporter": "python",
   "pygments_lexer": "ipython3",
   "version": "3.7.9"
  }
 },
 "nbformat": 4,
 "nbformat_minor": 5
}
