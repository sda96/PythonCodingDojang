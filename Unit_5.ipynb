{
 "cells": [
  {
   "cell_type": "markdown",
   "id": "potential-jimmy",
   "metadata": {},
   "source": [
    "### Unit 5. 숫자 계산하기"
   ]
  },
  {
   "cell_type": "markdown",
   "id": "proud-porter",
   "metadata": {},
   "source": [
    "파이썬의 **숫자형 자료형**이 존재합니다.\n",
    "\n",
    "숫자형 자료형\n",
    "- 정수(int)\n",
    "- 실수(float)\n",
    "- 복소수(complex)"
   ]
  },
  {
   "cell_type": "markdown",
   "id": "therapeutic-pantyhose",
   "metadata": {},
   "source": [
    "#### 5.1.1 숫자형 자료형 계산하기"
   ]
  },
  {
   "cell_type": "code",
   "execution_count": 1,
   "id": "geological-jewel",
   "metadata": {},
   "outputs": [
    {
     "data": {
      "text/plain": [
       "6"
      ]
     },
     "execution_count": 1,
     "metadata": {},
     "output_type": "execute_result"
    }
   ],
   "source": [
    "# 더하기\n",
    "3 + 3"
   ]
  },
  {
   "cell_type": "code",
   "execution_count": 22,
   "id": "detected-canberra",
   "metadata": {},
   "outputs": [
    {
     "data": {
      "text/plain": [
       "9.2"
      ]
     },
     "execution_count": 22,
     "metadata": {},
     "output_type": "execute_result"
    }
   ],
   "source": [
    "# 실수형과 정수형 계산시 넓은 범위의 실수형이 나옴\n",
    "4.2 + 5"
   ]
  },
  {
   "cell_type": "code",
   "execution_count": 21,
   "id": "threaded-billy",
   "metadata": {},
   "outputs": [
    {
     "data": {
      "text/plain": [
       "1.5999999999999996"
      ]
     },
     "execution_count": 21,
     "metadata": {},
     "output_type": "execute_result"
    }
   ],
   "source": [
    "# 빼기\n",
    "4.3 - 2.7"
   ]
  },
  {
   "cell_type": "code",
   "execution_count": 6,
   "id": "dense-complement",
   "metadata": {},
   "outputs": [
    {
     "data": {
      "text/plain": [
       "2.3333333333333335"
      ]
     },
     "execution_count": 6,
     "metadata": {},
     "output_type": "execute_result"
    }
   ],
   "source": [
    "# 나누어서 나오는 몫(float)\n",
    "7 / 3"
   ]
  },
  {
   "cell_type": "code",
   "execution_count": 8,
   "id": "brazilian-summary",
   "metadata": {},
   "outputs": [
    {
     "data": {
      "text/plain": [
       "2"
      ]
     },
     "execution_count": 8,
     "metadata": {},
     "output_type": "execute_result"
    }
   ],
   "source": [
    "# 나누어서 나오는 몫(int) : 버림 나눗셈\n",
    "7 // 3"
   ]
  },
  {
   "cell_type": "code",
   "execution_count": 9,
   "id": "powerful-wrong",
   "metadata": {},
   "outputs": [
    {
     "data": {
      "text/plain": [
       "1"
      ]
     },
     "execution_count": 9,
     "metadata": {},
     "output_type": "execute_result"
    }
   ],
   "source": [
    "# 나누어서 나오는 나머지\n",
    "7 % 3"
   ]
  },
  {
   "cell_type": "code",
   "execution_count": 10,
   "id": "exact-tower",
   "metadata": {},
   "outputs": [
    {
     "data": {
      "text/plain": [
       "(2, 1)"
      ]
     },
     "execution_count": 10,
     "metadata": {},
     "output_type": "execute_result"
    }
   ],
   "source": [
    "# 나누어서 나오는 몫(int)과 나머지\n",
    "divmod(7,3)"
   ]
  },
  {
   "cell_type": "code",
   "execution_count": 12,
   "id": "civilian-lying",
   "metadata": {},
   "outputs": [
    {
     "data": {
      "text/plain": [
       "81"
      ]
     },
     "execution_count": 12,
     "metadata": {},
     "output_type": "execute_result"
    }
   ],
   "source": [
    "# 거듭제곱 : 밑 ** 지수\n",
    "3 ** 4"
   ]
  },
  {
   "cell_type": "code",
   "execution_count": 2,
   "id": "sudden-morning",
   "metadata": {},
   "outputs": [
    {
     "ename": "ValueError",
     "evalue": "invalid literal for int() with base 10: '10.2'",
     "output_type": "error",
     "traceback": [
      "\u001b[0;31m---------------------------------------------------------------------------\u001b[0m",
      "\u001b[0;31mValueError\u001b[0m                                Traceback (most recent call last)",
      "\u001b[0;32m<ipython-input-2-098e70627aac>\u001b[0m in \u001b[0;36m<module>\u001b[0;34m\u001b[0m\n\u001b[1;32m      1\u001b[0m \u001b[0;31m# 숫자형만 변환 가능 안그러면 에러가 나옴\u001b[0m\u001b[0;34m\u001b[0m\u001b[0;34m\u001b[0m\u001b[0;34m\u001b[0m\u001b[0m\n\u001b[0;32m----> 2\u001b[0;31m \u001b[0mint\u001b[0m\u001b[0;34m(\u001b[0m\u001b[0;34m\"10.2\"\u001b[0m\u001b[0;34m)\u001b[0m\u001b[0;34m\u001b[0m\u001b[0;34m\u001b[0m\u001b[0m\n\u001b[0m",
      "\u001b[0;31mValueError\u001b[0m: invalid literal for int() with base 10: '10.2'"
     ]
    }
   ],
   "source": [
    "# 숫자형만 변환 가능 안그러면 에러가 나옴\n",
    "int(\"10.2\")"
   ]
  },
  {
   "cell_type": "code",
   "execution_count": 14,
   "id": "personalized-alcohol",
   "metadata": {},
   "outputs": [
    {
     "data": {
      "text/plain": [
       "2"
      ]
     },
     "execution_count": 14,
     "metadata": {},
     "output_type": "execute_result"
    }
   ],
   "source": [
    "# 실수 자료형을 정수 자료형으로 변환\n",
    "int(7 / 3)"
   ]
  },
  {
   "cell_type": "code",
   "execution_count": 25,
   "id": "basic-appeal",
   "metadata": {},
   "outputs": [
    {
     "data": {
      "text/plain": [
       "2.0"
      ]
     },
     "execution_count": 25,
     "metadata": {},
     "output_type": "execute_result"
    }
   ],
   "source": [
    "# 정수 자료형을 실수 자료형으로 변환\n",
    "float(6 / 3)"
   ]
  },
  {
   "cell_type": "code",
   "execution_count": 18,
   "id": "shaped-document",
   "metadata": {},
   "outputs": [
    {
     "data": {
      "text/plain": [
       "5.64"
      ]
     },
     "execution_count": 18,
     "metadata": {},
     "output_type": "execute_result"
    }
   ],
   "source": [
    "# 소수점 둘째자리에서 반올림\n",
    "round(5.637, 2)"
   ]
  },
  {
   "cell_type": "code",
   "execution_count": 28,
   "id": "raised-ribbon",
   "metadata": {},
   "outputs": [
    {
     "data": {
      "text/plain": [
       "(1.2+1.3j)"
      ]
     },
     "execution_count": 28,
     "metadata": {},
     "output_type": "execute_result"
    }
   ],
   "source": [
    "# 실수부와 허수부로 이루어진 복소수 사용가능\n",
    "1.2+1.3j"
   ]
  },
  {
   "cell_type": "code",
   "execution_count": 29,
   "id": "native-crash",
   "metadata": {
    "scrolled": true
   },
   "outputs": [
    {
     "data": {
      "text/plain": [
       "(1.2+1.3j)"
      ]
     },
     "execution_count": 29,
     "metadata": {},
     "output_type": "execute_result"
    }
   ],
   "source": [
    "# 두 실수를 복소수로 만들 때 complex를 사용\n",
    "complex(1.2, 1.3)"
   ]
  },
  {
   "cell_type": "code",
   "execution_count": 30,
   "id": "steady-gasoline",
   "metadata": {},
   "outputs": [
    {
     "data": {
      "text/plain": [
       "64"
      ]
     },
     "execution_count": 30,
     "metadata": {},
     "output_type": "execute_result"
    }
   ],
   "source": [
    "# 괄호를 사용한 계산\n",
    "(3 + 5) * 4 * 2"
   ]
  },
  {
   "cell_type": "code",
   "execution_count": 4,
   "id": "massive-century",
   "metadata": {},
   "outputs": [
    {
     "data": {
      "text/plain": [
       "6"
      ]
     },
     "execution_count": 4,
     "metadata": {},
     "output_type": "execute_result"
    }
   ],
   "source": [
    "# 2진수\n",
    "0b110"
   ]
  },
  {
   "cell_type": "code",
   "execution_count": 5,
   "id": "offensive-wallet",
   "metadata": {},
   "outputs": [
    {
     "data": {
      "text/plain": [
       "8"
      ]
     },
     "execution_count": 5,
     "metadata": {},
     "output_type": "execute_result"
    }
   ],
   "source": [
    "# 8진수\n",
    "0o10"
   ]
  },
  {
   "cell_type": "code",
   "execution_count": 6,
   "id": "frequent-sarah",
   "metadata": {
    "scrolled": true
   },
   "outputs": [
    {
     "data": {
      "text/plain": [
       "15"
      ]
     },
     "execution_count": 6,
     "metadata": {},
     "output_type": "execute_result"
    }
   ],
   "source": [
    "# 16진수\n",
    "0xF"
   ]
  },
  {
   "cell_type": "markdown",
   "id": "fifteen-packing",
   "metadata": {},
   "source": [
    "#### 5.1.2 객체 자료형 알아내기"
   ]
  },
  {
   "cell_type": "code",
   "execution_count": 19,
   "id": "preliminary-kazakhstan",
   "metadata": {},
   "outputs": [
    {
     "data": {
      "text/plain": [
       "int"
      ]
     },
     "execution_count": 19,
     "metadata": {},
     "output_type": "execute_result"
    }
   ],
   "source": [
    "type(10)"
   ]
  },
  {
   "cell_type": "code",
   "execution_count": 26,
   "id": "continent-laugh",
   "metadata": {},
   "outputs": [
    {
     "data": {
      "text/plain": [
       "float"
      ]
     },
     "execution_count": 26,
     "metadata": {},
     "output_type": "execute_result"
    }
   ],
   "source": [
    "type(3.5)"
   ]
  },
  {
   "cell_type": "code",
   "execution_count": 31,
   "id": "cloudy-equivalent",
   "metadata": {},
   "outputs": [
    {
     "data": {
      "text/plain": [
       "complex"
      ]
     },
     "execution_count": 31,
     "metadata": {},
     "output_type": "execute_result"
    }
   ],
   "source": [
    "type(complex(1.2, 1.3))"
   ]
  }
 ],
 "metadata": {
  "kernelspec": {
   "display_name": "Python 3",
   "language": "python",
   "name": "python3"
  },
  "language_info": {
   "codemirror_mode": {
    "name": "ipython",
    "version": 3
   },
   "file_extension": ".py",
   "mimetype": "text/x-python",
   "name": "python",
   "nbconvert_exporter": "python",
   "pygments_lexer": "ipython3",
   "version": "3.7.9"
  }
 },
 "nbformat": 4,
 "nbformat_minor": 5
}
